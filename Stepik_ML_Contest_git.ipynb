{
 "cells": [
  {
   "cell_type": "code",
   "execution_count": 35,
   "metadata": {},
   "outputs": [],
   "source": [
    "import pandas as pd\n",
    "import seaborn as sns\n",
    "import matplotlib.pyplot as plt\n",
    "from datetime import datetime\n",
    "from pandas.tseries.offsets import DateOffset\n",
    "import numpy as np\n",
    "from sklearn import svm\n",
    "import xgboost as xg\n",
    "from numpy import mean\n",
    "from sklearn import metrics\n",
    "from sklearn.model_selection import *\n",
    "from scipy.stats import uniform, randint"
   ]
  },
  {
   "cell_type": "code",
   "execution_count": 36,
   "metadata": {},
   "outputs": [],
   "source": [
    "ev_train = pd.read_csv('event_data_train.csv') # all steps data\n",
    "sub_train = pd.read_csv('submissions_data_train.csv') # exercising steps data\n",
    "ev_test = pd.read_csv('events_data_test.csv')\n",
    "sub_test = pd.read_csv('submission_data_test.csv')"
   ]
  },
  {
   "cell_type": "code",
   "execution_count": 37,
   "metadata": {},
   "outputs": [],
   "source": [
    "# create trget variable\n",
    "ev_train['result'] = ev_train[ev_train.action == 'passed'].groupby('user_id').step_id.transform('nunique')\n",
    "ev_train['result'] = np.where((ev_train['result'] >= 80), 1, 0)\n",
    "ev_train['result'] = ev_train.groupby('user_id').result.transform('max')"
   ]
  },
  {
   "cell_type": "code",
   "execution_count": 38,
   "metadata": {},
   "outputs": [
    {
     "name": "stdout",
     "output_type": "stream",
     "text": [
      "result\n",
      "0    1123099\n",
      "1    2357604\n",
      "Name: user_id, dtype: int64\n"
     ]
    },
    {
     "data": {
      "text/plain": [
       "0.4763730465336842"
      ]
     },
     "execution_count": 38,
     "metadata": {},
     "output_type": "execute_result"
    },
    {
     "data": {
      "image/png": "[encoded data removed]",
      "text/plain": [
       "<Figure size 360x360 with 1 Axes>"
      ]
     },
     "metadata": {
      "needs_background": "light"
     },
     "output_type": "display_data"
    }
   ],
   "source": [
    "# Check the class balance for result variable\n",
    "print(ev_train.groupby('result').user_id.count())\n",
    "sns.catplot(x = 'result', kind = 'count', palette = 'PiYG', data = ev_train);\n",
    "# We may see that classes are imbalanced\n",
    "imb = ev_train.groupby('result').user_id.count()[0] / ev_train.groupby('result').user_id.count()[1]\n",
    "imb"
   ]
  },
  {
   "cell_type": "code",
   "execution_count": 39,
   "metadata": {},
   "outputs": [
    {
     "data": {
      "text/plain": [
       "[step_id       int64\n",
       " timestamp     int64\n",
       " action       object\n",
       " user_id       int64\n",
       " result        int32\n",
       " dtype: object,\n",
       " step_id       int64\n",
       " timestamp     int64\n",
       " action       object\n",
       " user_id       int64\n",
       " dtype: object,\n",
       " step_id               int64\n",
       " timestamp             int64\n",
       " submission_status    object\n",
       " user_id               int64\n",
       " dtype: object,\n",
       " step_id               int64\n",
       " timestamp             int64\n",
       " submission_status    object\n",
       " user_id               int64\n",
       " dtype: object]"
      ]
     },
     "execution_count": 39,
     "metadata": {},
     "output_type": "execute_result"
    }
   ],
   "source": [
    "[df.dtypes for df in (ev_train, ev_test, sub_train, sub_test)]"
   ]
  },
  {
   "cell_type": "code",
   "execution_count": 40,
   "metadata": {},
   "outputs": [
    {
     "data": {
      "text/plain": [
       "[False, False, False, False]"
      ]
     },
     "execution_count": 40,
     "metadata": {},
     "output_type": "execute_result"
    }
   ],
   "source": [
    "[df.isnull().values.any() for df in (ev_train, ev_test, sub_train, sub_test)] # there are no missing values"
   ]
  },
  {
   "cell_type": "code",
   "execution_count": 41,
   "metadata": {},
   "outputs": [],
   "source": [
    "ev_train['date'] = [d.date() for d in pd.to_datetime(ev_train['timestamp'], unit = 's')]\n",
    "ev_test['date'] = [d.date() for d in pd.to_datetime(ev_test['timestamp'], unit = 's')]\n",
    "sub_train['date'] = [d.date() for d in pd.to_datetime(sub_train['timestamp'], unit = 's')]\n",
    "sub_test['date'] = [d.date() for d in pd.to_datetime(sub_test['timestamp'], unit = 's')]"
   ]
  },
  {
   "cell_type": "code",
   "execution_count": 42,
   "metadata": {},
   "outputs": [],
   "source": [
    "ev_train['first_d'] = ev_train.groupby('user_id').date.transform('min')\n",
    "m = ev_train.date <= pd.DatetimeIndex(ev_train.first_d) + DateOffset(days = 2)\n",
    "ev_train = ev_train.loc[m]\n",
    "#############################\n",
    "sub_train['first_d'] = sub_train['user_id'].map(ev_train['first_d'])\n",
    "m1 = sub_train.date <= pd.DatetimeIndex(sub_train.first_d) + DateOffset(days = 2)\n",
    "sub_train = sub_train.loc[m1]\n",
    "##################################\n",
    "ev_test['first_d'] = ev_test.groupby('user_id').date.transform('min')\n",
    "#############################\n",
    "sub_test['first_d'] = sub_test['user_id'].map(ev_test['first_d']).copy()"
   ]
  },
  {
   "cell_type": "code",
   "execution_count": 43,
   "metadata": {},
   "outputs": [],
   "source": [
    "# step_unique, step_passed, activity at the start of learning (0 day), activity on the first day, activity \n",
    "# on the second day\n",
    "ev_train['step_unique'] = ev_train.groupby('user_id').step_id.transform('nunique')\n",
    "ev_train['step_passed'] = ev_train[ev_train.action == 'passed'].groupby('user_id').step_id.transform('nunique')\n",
    "ev_train['step_passed_0d'] = ev_train[(ev_train.action == 'passed') & (ev_train.date == ev_train.first_d)].groupby('user_id').step_id.transform('nunique')\n",
    "ev_train['step_passed_1std'] = ev_train[(ev_train.action == 'passed') & (pd.DatetimeIndex(ev_train.date) - pd.DatetimeIndex(ev_train.first_d) == '1 days')].groupby('user_id').step_id.transform('nunique')\n",
    "ev_train['step_passed_2nd'] = ev_train[(ev_train.action == 'passed') & (pd.DatetimeIndex(ev_train.date) - pd.DatetimeIndex(ev_train.first_d) == '2 days')].groupby('user_id').step_id.transform('nunique')\n",
    "\n",
    "# result (it was said that the threshold is 40)\n",
    "#ev_train['result'] = 0\n",
    "#ev_train.loc[ev_train['step_passed'] >= 40, 'result'] = 1\n",
    "# replace Nan with 0 steps:\n",
    "ev_train = ev_train.fillna(0)"
   ]
  },
  {
   "cell_type": "code",
   "execution_count": 44,
   "metadata": {},
   "outputs": [],
   "source": [
    "# the same for ev_test\n",
    "ev_test['step_unique'] = ev_test.groupby('user_id').step_id.transform('nunique')\n",
    "ev_test['step_passed'] = ev_test[ev_test.action == 'passed'].groupby('user_id').step_id.transform('nunique')\n",
    "ev_test['step_passed_0d'] = ev_test[(ev_test.action == 'passed') & (ev_test.date == ev_test.first_d)].groupby('user_id').step_id.transform('nunique')\n",
    "ev_test['step_passed_1std'] = ev_test[(ev_test.action == 'passed') & (pd.DatetimeIndex(ev_test.date) - pd.DatetimeIndex(ev_test.first_d) == '1 days')].groupby('user_id').step_id.transform('nunique')\n",
    "ev_test['step_passed_2nd'] = ev_test[(ev_test.action == 'passed') & (pd.DatetimeIndex(ev_test.date) - pd.DatetimeIndex(ev_test.first_d) == '2 days')].groupby('user_id').step_id.transform('nunique')\n",
    "\n",
    "# result (it was said that the threshold is 40)\n",
    "ev_test['result'] = 0\n",
    "ev_test.loc[ev_test['step_passed'] >= 40, 'result'] = 1\n",
    "# replace Nan with 0 steps:\n",
    "ev_test = ev_test.fillna(0)"
   ]
  },
  {
   "cell_type": "code",
   "execution_count": 45,
   "metadata": {},
   "outputs": [],
   "source": [
    "# task unique, tasks_correct, 0 day tasks_correct, 1st day tasks_correct, 2 nd day tasks_correct\n",
    "sub_train['tasks_unique'] = sub_train.groupby('user_id').step_id.transform('nunique')\n",
    "sub_train['tasks_correct'] = sub_train[sub_train.submission_status == 'correct'].groupby('user_id').step_id.transform('nunique')\n",
    "sub_train['tasks_correct_0st'] = sub_train[(sub_train.submission_status == 'correct') & (sub_train.date == sub_train.first_d)].groupby('user_id').step_id.transform('nunique')\n",
    "sub_train['tasks_correct_1st'] = sub_train[(sub_train.submission_status == 'correct') & (pd.DatetimeIndex(sub_train.date) - pd.DatetimeIndex(sub_train.first_d) == '1 days')].groupby('user_id').step_id.transform('nunique')\n",
    "sub_train['tasks_correct_2nd'] = sub_train[(sub_train.submission_status == 'correct') & (pd.DatetimeIndex(sub_train.date) - pd.DatetimeIndex(sub_train.first_d) == '2 days')].groupby('user_id').step_id.transform('nunique')\n",
    "\n",
    "# find the number of solving task attempts \n",
    "sub_train['tasks_attempts'] = sub_train.groupby(['user_id', 'step_id']).submission_status.transform('count')\n",
    "# replace Nan with 0:\n",
    "sub_train = sub_train.fillna(0)"
   ]
  },
  {
   "cell_type": "code",
   "execution_count": 46,
   "metadata": {},
   "outputs": [],
   "source": [
    "# the same for esub_test\n",
    "sub_test['tasks_unique'] = sub_test.groupby('user_id').step_id.transform('nunique')\n",
    "sub_test['tasks_correct'] = sub_test[sub_test.submission_status == 'correct'].groupby('user_id').step_id.transform('nunique')\n",
    "sub_test['tasks_correct_0st'] = sub_test[(sub_test.submission_status == 'correct') & (sub_test.date == sub_test.first_d)].groupby('user_id').step_id.transform('nunique')\n",
    "sub_test['tasks_correct_1st'] = sub_test[(sub_test.submission_status == 'correct') & (pd.DatetimeIndex(sub_test.date) - pd.DatetimeIndex(sub_test.first_d) == '1 days')].groupby('user_id').step_id.transform('nunique')\n",
    "sub_test['tasks_correct_2nd'] = sub_test[(sub_test.submission_status == 'correct') & (pd.DatetimeIndex(sub_test.date) - pd.DatetimeIndex(sub_test.first_d) == '2 days')].groupby('user_id').step_id.transform('nunique')\n",
    "\n",
    "# find the number of solving task attempts \n",
    "sub_test['tasks_attempts'] = sub_test.groupby(['user_id', 'step_id']).submission_status.transform('count')\n",
    "# replace Nan with 0:\n",
    "sub_test = sub_test.fillna(0)"
   ]
  },
  {
   "cell_type": "code",
   "execution_count": 47,
   "metadata": {},
   "outputs": [
    {
     "name": "stdout",
     "output_type": "stream",
     "text": [
      "19234\n",
      "871\n",
      "6184\n",
      "2803\n"
     ]
    }
   ],
   "source": [
    "print(len(ev_train.user_id.unique()))\n",
    "print(len(sub_train.user_id.unique()))\n",
    "print(len(ev_test.user_id.unique()))\n",
    "print(len(sub_test.user_id.unique()))"
   ]
  },
  {
   "cell_type": "code",
   "execution_count": 48,
   "metadata": {},
   "outputs": [
    {
     "data": {
      "text/plain": [
       "Int64Index([32075, 31981, 32202, 32795, 32810, 33350, 32206, 32796], dtype='int64', name='step_id')"
      ]
     },
     "execution_count": 48,
     "metadata": {},
     "output_type": "execute_result"
    }
   ],
   "source": [
    "# find the most difficult tasks\n",
    "diff = sub_train.drop_duplicates(subset = ['user_id', 'step_id'], keep = 'last').groupby('step_id').tasks_attempts.mean().sort_values()\n",
    "# let's suppose that if average amount of attempts are 4 or more, the task is difficult. \n",
    "diff = diff[diff > 3].index\n",
    "diff"
   ]
  },
  {
   "cell_type": "code",
   "execution_count": 49,
   "metadata": {},
   "outputs": [],
   "source": [
    "# Create dummy variables for solving the most difficalt tasks\n",
    "dummy = []\n",
    "for i in diff: \n",
    "    dummy.append('is_' + str(i))\n",
    "    sub_train['is_' + str(i)] = np.where((sub_train['step_id'] == i) & (sub_train['submission_status'] == 'correct'), 1, 0)\n",
    "for i in diff: \n",
    "    sub_test['is_' + str(i)] = np.where((sub_test['step_id'] == i) & (sub_test['submission_status'] == 'correct'), 1, 0)\n",
    "    \n",
    "for i in dummy: \n",
    "    sub_train.loc[:, i] = sub_train.groupby('user_id')[i].transform('max')\n",
    "    sub_test.loc[:, i] = sub_test.groupby('user_id')[i].transform('max')"
   ]
  },
  {
   "cell_type": "code",
   "execution_count": 50,
   "metadata": {},
   "outputs": [],
   "source": [
    "sub_train['tasks_attempts_total'] = sub_train.groupby(['user_id']).step_id.transform('count')\n",
    "sub_test['tasks_attempts_total'] = sub_test.groupby(['user_id']).step_id.transform('count')"
   ]
  },
  {
   "cell_type": "code",
   "execution_count": 51,
   "metadata": {},
   "outputs": [
    {
     "name": "stdout",
     "output_type": "stream",
     "text": [
      "(10999, 21)\n",
      "(42261, 21)\n"
     ]
    }
   ],
   "source": [
    "print(sub_train.shape)\n",
    "print(sub_test.shape)"
   ]
  },
  {
   "cell_type": "code",
   "execution_count": 52,
   "metadata": {},
   "outputs": [],
   "source": [
    "#pd.set_option('display.max_columns', None)\n",
    "sub_train[['tasks_correct', 'tasks_correct_0st', 'tasks_correct_1st', 'tasks_correct_2nd']] = sub_train.groupby('user_id')[['tasks_correct', 'tasks_correct_0st', 'tasks_correct_1st', 'tasks_correct_2nd']].transform('max')\n",
    "sub_test[['tasks_correct', 'tasks_correct_0st', 'tasks_correct_1st', 'tasks_correct_2nd']] = sub_test.groupby('user_id')[['tasks_correct', 'tasks_correct_0st', 'tasks_correct_1st', 'tasks_correct_2nd']].transform('max')\n",
    "ev_train[['step_passed', 'step_passed_0d', 'step_passed_1std', 'step_passed_2nd']] = ev_train.groupby('user_id')[['step_passed', 'step_passed_0d', 'step_passed_1std', 'step_passed_2nd']].transform('max')\n",
    "ev_test[['step_passed', 'step_passed_0d', 'step_passed_1std', 'step_passed_2nd']] = ev_test.groupby('user_id')[['step_passed', 'step_passed_0d', 'step_passed_1std', 'step_passed_2nd']].transform('max')"
   ]
  },
  {
   "cell_type": "code",
   "execution_count": 53,
   "metadata": {},
   "outputs": [],
   "source": [
    "train_1 =  ev_train[['user_id', 'step_unique', 'step_passed_0d', 'step_passed_1std', 'step_passed_2nd', 'result']].drop_duplicates(subset = ['user_id'], keep = 'last')\n",
    "test_1 = ev_test[['user_id', 'step_unique', 'step_passed_0d', 'step_passed_1std', 'step_passed_2nd', 'result']].drop_duplicates(subset = ['user_id'], keep = 'last')\n",
    "train_2 =  sub_train[['user_id', 'tasks_unique', 'tasks_correct_1st', 'tasks_correct_2nd', 'tasks_attempts', 'is_32075', 'is_31981', 'is_32202', 'is_32795', 'is_32810', 'is_33350', 'is_32206', 'is_32796']].drop_duplicates(subset = ['user_id'], keep = 'last')\n",
    "test_2 = sub_test[['user_id', 'tasks_unique', 'tasks_correct_1st', 'tasks_correct_2nd', 'tasks_attempts', 'is_32075', 'is_31981', 'is_32202', 'is_32795', 'is_32810', 'is_33350', 'is_32206', 'is_32796']].drop_duplicates(subset = ['user_id'], keep = 'last')\n",
    "train = pd.merge(train_1, train_2, how = 'left')\n",
    "train = train.fillna(0)\n",
    "test = pd.merge(test_1, test_2, how = 'left')\n",
    "test = test.fillna(0)"
   ]
  },
  {
   "cell_type": "code",
   "execution_count": 54,
   "metadata": {},
   "outputs": [],
   "source": [
    "y_train = train.result\n",
    "X_train = train.drop('result', 1)\n",
    "y_test = test.result\n",
    "X_test = test.drop('result', 1)"
   ]
  },
  {
   "cell_type": "code",
   "execution_count": 55,
   "metadata": {},
   "outputs": [
    {
     "name": "stdout",
     "output_type": "stream",
     "text": [
      "(6184, 17)\n",
      "(19234, 17)\n",
      "(6184,)\n",
      "(19234,)\n"
     ]
    }
   ],
   "source": [
    "print(X_test.shape)\n",
    "print(X_train.shape)\n",
    "print(y_test.shape)\n",
    "print(y_train.shape)"
   ]
  },
  {
   "cell_type": "code",
   "execution_count": 105,
   "metadata": {},
   "outputs": [],
   "source": [
    "clf_xg = xg.XGBClassifier(objective = 'binary:logistic', eval_metric = 'auc', use_label_encoder = False)\n",
    "params = {'n_estimators': randint(100, 500),\n",
    "              'eta': uniform(0.01, 0.6),\n",
    "              'subsample': uniform(0.3, 0.9),\n",
    "              'max_depth': randint(2, 10),\n",
    "              'colsample_bytree': uniform(0.5, 0.9),\n",
    "              'min_child_weight': randint(1,5),\n",
    "              'scale_pos_weight': [imb, 1],\n",
    "              'gamma': uniform(0, 0.9)\n",
    "             }\n",
    "\n",
    "kfold = KFold(n_splits=10, shuffle=True)\n",
    "\n",
    "clf = RandomizedSearchCV(clf_xg, \n",
    "                         param_distributions = params,\n",
    "                         cv = kfold,  \n",
    "                         n_iter = 50,\n",
    "                         scoring = 'roc_auc', \n",
    "                         error_score = 0, \n",
    "                         verbose = 3, \n",
    "                         n_jobs = -1,\n",
    "                        refit=True)"
   ]
  },
  {
   "cell_type": "code",
   "execution_count": 106,
   "metadata": {},
   "outputs": [
    {
     "name": "stdout",
     "output_type": "stream",
     "text": [
      "Fitting 10 folds for each of 50 candidates, totalling 500 fits\n"
     ]
    },
    {
     "data": {
      "text/plain": [
       "RandomizedSearchCV(cv=KFold(n_splits=10, random_state=None, shuffle=True),\n",
       "                   error_score=0,\n",
       "                   estimator=XGBClassifier(base_score=None, booster=None,\n",
       "                                           colsample_bylevel=None,\n",
       "                                           colsample_bynode=None,\n",
       "                                           colsample_bytree=None,\n",
       "                                           eval_metric='auc', gamma=None,\n",
       "                                           gpu_id=None, importance_type='gain',\n",
       "                                           interaction_constraints=None,\n",
       "                                           learning_rate=None,\n",
       "                                           max_delta_step=None, max_depth=No...\n",
       "                                        'max_depth': <scipy.stats._distn_infrastructure.rv_frozen object at 0x00000232B63667C8>,\n",
       "                                        'min_child_weight': <scipy.stats._distn_infrastructure.rv_frozen object at 0x00000232A634A208>,\n",
       "                                        'n_estimators': <scipy.stats._distn_infrastructure.rv_frozen object at 0x00000232B6366188>,\n",
       "                                        'scale_pos_weight': [0.4763730465336842,\n",
       "                                                             1],\n",
       "                                        'subsample': <scipy.stats._distn_infrastructure.rv_frozen object at 0x00000232B6366888>},\n",
       "                   scoring='roc_auc', verbose=3)"
      ]
     },
     "execution_count": 106,
     "metadata": {},
     "output_type": "execute_result"
    }
   ],
   "source": [
    "clf.fit(X_train, y_train)"
   ]
  },
  {
   "cell_type": "code",
   "execution_count": 107,
   "metadata": {},
   "outputs": [
    {
     "name": "stdout",
     "output_type": "stream",
     "text": [
      "[[5391  398]\n",
      " [   6  389]]\n",
      "auc:  0.96\n"
     ]
    }
   ],
   "source": [
    "y_pred = clf.predict(X_test)\n",
    "cm = metrics.confusion_matrix(y_test,y_pred) \n",
    "print(cm)\n",
    "auc_xg = np.round(metrics.roc_auc_score(y_test, y_pred),2)\n",
    "print('auc: ', auc_xg)"
   ]
  },
  {
   "cell_type": "code",
   "execution_count": 108,
   "metadata": {},
   "outputs": [],
   "source": [
    "###\n",
    "ev_test1 = pd.read_csv('events_data_test_1.csv')\n",
    "sub_test1 = pd.read_csv('submission_data_test_1.csv')\n",
    "ev_test1['date'] = [d.date() for d in pd.to_datetime(ev_test1['timestamp'], unit = 's')]\n",
    "sub_test1['date'] = [d.date() for d in pd.to_datetime(sub_test1['timestamp'], unit = 's')]\n",
    "ev_test1['first_d'] = ev_test1.groupby('user_id').date.transform('min')\n",
    "sub_test1['first_d'] = sub_test1['user_id'].map(ev_test1['first_d']).copy()\n",
    "ev_test1['step_unique'] = ev_test1.groupby('user_id').step_id.transform('nunique')\n",
    "ev_test1['step_passed'] = ev_test1[ev_test1.action == 'passed'].groupby('user_id').step_id.transform('nunique')\n",
    "ev_test1['step_passed_0d'] = ev_test1[(ev_test1.action == 'passed') & (ev_test1.date == ev_test1.first_d)].groupby('user_id').step_id.transform('nunique')\n",
    "ev_test1['step_passed_1std'] = ev_test1[(ev_test1.action == 'passed') & (pd.DatetimeIndex(ev_test1.date) - pd.DatetimeIndex(ev_test1.first_d) == '1 days')].groupby('user_id').step_id.transform('nunique')\n",
    "ev_test1['step_passed_2nd'] = ev_test1[(ev_test1.action == 'passed') & (pd.DatetimeIndex(ev_test1.date) - pd.DatetimeIndex(ev_test1.first_d) == '2 days')].groupby('user_id').step_id.transform('nunique')\n",
    "\n",
    "# result (it was said that the threshold is 40)\n",
    "ev_test1['result'] = 0\n",
    "ev_test1.loc[ev_test1['step_passed'] >= 40, 'result'] = 1\n",
    "# replace Nan with 0 steps:\n",
    "ev_test1 = ev_test1.fillna(0)\n",
    "sub_test1['tasks_unique'] = sub_test1.groupby('user_id').step_id.transform('nunique')\n",
    "sub_test1['tasks_correct'] = sub_test1[sub_test1.submission_status == 'correct'].groupby('user_id').step_id.transform('nunique')\n",
    "sub_test1['tasks_correct_0st'] = sub_test1[(sub_test1.submission_status == 'correct') & (sub_test1.date == sub_test1.first_d)].groupby('user_id').step_id.transform('nunique')\n",
    "sub_test1['tasks_correct_1st'] = sub_test1[(sub_test1.submission_status == 'correct') & (pd.DatetimeIndex(sub_test1.date) - pd.DatetimeIndex(sub_test1.first_d) == '1 days')].groupby('user_id').step_id.transform('nunique')\n",
    "sub_test1['tasks_correct_2nd'] = sub_test1[(sub_test1.submission_status == 'correct') & (pd.DatetimeIndex(sub_test1.date) - pd.DatetimeIndex(sub_test1.first_d) == '2 days')].groupby('user_id').step_id.transform('nunique')\n",
    "\n",
    "# find the number of solving task attempts \n",
    "sub_test1['tasks_attempts'] = sub_test1.groupby(['user_id', 'step_id']).submission_status.transform('count')\n",
    "# replace Nan with 0:\n",
    "sub_test1 = sub_test1.fillna(0)\n",
    "\n",
    "for i in diff: \n",
    "    sub_test1['is_' + str(i)] = np.where((sub_test1['step_id'] == i) & (sub_test1['submission_status'] == 'correct'), 1, 0)\n",
    "    \n",
    "for i in dummy: \n",
    "    sub_test1.loc[:, i] = sub_test1.groupby('user_id')[i].transform('max')\n",
    "\n",
    "sub_test1['tasks_attempts_total'] = sub_test1.groupby(['user_id']).step_id.transform('count')\n",
    "\n",
    "sub_test1[['tasks_correct', 'tasks_correct_0st', 'tasks_correct_1st', 'tasks_correct_2nd']] = sub_test1.groupby('user_id')[['tasks_correct', 'tasks_correct_0st', 'tasks_correct_1st', 'tasks_correct_2nd']].transform('max')\n",
    "ev_test1[['step_passed', 'step_passed_0d', 'step_passed_1std', 'step_passed_2nd']] = ev_test1.groupby('user_id')[['step_passed', 'step_passed_0d', 'step_passed_1std', 'step_passed_2nd']].transform('max')\n",
    "test1_1 = ev_test1[['user_id', 'step_unique', 'step_passed_0d', 'step_passed_1std', 'step_passed_2nd', 'result']].drop_duplicates(subset = ['user_id'], keep = 'last')\n",
    "test1_2 = sub_test1[['user_id', 'tasks_unique', 'tasks_correct_1st', 'tasks_correct_2nd', 'tasks_attempts', 'is_32075', 'is_31981', 'is_32202', 'is_32795', 'is_32810', 'is_33350', 'is_32206', 'is_32796']].drop_duplicates(subset = ['user_id'], keep = 'last')\n",
    "\n",
    "test1 = pd.merge(test1_1, test1_2, how = 'left')\n",
    "test1 = test1.fillna(0)\n",
    "\n",
    "y_test1 = test1.result\n",
    "X_test1 = test1.drop('result', 1)"
   ]
  },
  {
   "cell_type": "code",
   "execution_count": 109,
   "metadata": {},
   "outputs": [],
   "source": [
    "pred_xg1 = clf.predict(X_test1)\n",
    "prob_xg1 = clf.predict_proba(X_test1)"
   ]
  },
  {
   "cell_type": "code",
   "execution_count": 110,
   "metadata": {},
   "outputs": [],
   "source": [
    "output1 = pd.concat([pd.DataFrame(X_test1.user_id), pd.DataFrame(pd.DataFrame(np.round(prob_xg1,2))[1])], axis = 1)\n",
    "output1.columns = ['user_id','is_gone']\n",
    "output = output1.set_index('user_id')\n",
    "output1.to_csv('final.csv')"
   ]
  }
 ],
 "metadata": {
  "kernelspec": {
   "display_name": "Python 3",
   "language": "python",
   "name": "python3"
  },
  "language_info": {
   "codemirror_mode": {
    "name": "ipython",
    "version": 3
   },
   "file_extension": ".py",
   "mimetype": "text/x-python",
   "name": "python",
   "nbconvert_exporter": "python",
   "pygments_lexer": "ipython3",
   "version": "3.7.8"
  }
 },
 "nbformat": 4,
 "nbformat_minor": 4
}
