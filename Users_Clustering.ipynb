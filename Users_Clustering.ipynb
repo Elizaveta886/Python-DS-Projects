{
 "cells": [
  {
   "cell_type": "code",
   "execution_count": 1,
   "metadata": {},
   "outputs": [],
   "source": [
    "##########################################################\n",
    "# Loading Data and Importing Libraries\n",
    "#########################################################\n",
    "##########################################################\n",
    "# Загрузка данных и библиотек\n",
    "#########################################################"
   ]
  },
  {
   "cell_type": "code",
   "execution_count": 1,
   "metadata": {},
   "outputs": [],
   "source": [
    "import pandas as pd\n",
    "from datetime import datetime\n",
    "import numpy as np\n",
    "import re\n",
    "from sklearn.preprocessing import StandardScaler \n",
    "from sklearn.cluster import KMeans\n",
    "import matplotlib.pyplot as plt\n",
    "%matplotlib inline\n",
    "from sklearn.metrics import silhouette_score\n",
    "import kneed\n",
    "from kneed import KneeLocator\n",
    "import plotly.express as px\n",
    "from sympy import *\n",
    "import math"
   ]
  },
  {
   "cell_type": "code",
   "execution_count": 2,
   "metadata": {},
   "outputs": [],
   "source": [
    "############\n",
    "import os\n",
    "os.chdir('C:\\\\Users\\\\Elizaveta\\\\Документы\\\\OYC\\\\Git')"
   ]
  },
  {
   "cell_type": "code",
   "execution_count": 3,
   "metadata": {
    "scrolled": true
   },
   "outputs": [],
   "source": [
    "df = pd.read_csv('users_data.csv',  index_col=0)"
   ]
  },
  {
   "cell_type": "code",
   "execution_count": 4,
   "metadata": {},
   "outputs": [
    {
     "data": {
      "text/html": [
       "<div>\n",
       "<style scoped>\n",
       "    .dataframe tbody tr th:only-of-type {\n",
       "        vertical-align: middle;\n",
       "    }\n",
       "\n",
       "    .dataframe tbody tr th {\n",
       "        vertical-align: top;\n",
       "    }\n",
       "\n",
       "    .dataframe thead th {\n",
       "        text-align: right;\n",
       "    }\n",
       "</style>\n",
       "<table border=\"1\" class=\"dataframe\">\n",
       "  <thead>\n",
       "    <tr style=\"text-align: right;\">\n",
       "      <th></th>\n",
       "      <th>play_id</th>\n",
       "      <th>song_duration</th>\n",
       "      <th>song_genre</th>\n",
       "      <th>song_id</th>\n",
       "      <th>user_id</th>\n",
       "      <th>utc_play_end</th>\n",
       "      <th>utc_play_start</th>\n",
       "    </tr>\n",
       "  </thead>\n",
       "  <tbody>\n",
       "    <tr>\n",
       "      <th>0</th>\n",
       "      <td>4a4d0</td>\n",
       "      <td>550.605795</td>\n",
       "      <td>DUBSTEP</td>\n",
       "      <td>f256c6af-029f-43b5-97f0-79ed6d2afc96</td>\n",
       "      <td>ed07abk8</td>\n",
       "      <td>2021-01-03T12:46:40.097000Z</td>\n",
       "      <td>2021-01-03T12:37:41.401000Z</td>\n",
       "    </tr>\n",
       "    <tr>\n",
       "      <th>1</th>\n",
       "      <td>z553d</td>\n",
       "      <td>441.123734</td>\n",
       "      <td>ROCK</td>\n",
       "      <td>166148d1-ad74-421c-ab58-4d1059c3c694</td>\n",
       "      <td>ke53efc9</td>\n",
       "      <td>2021-02-02T21:40:24.993000Z</td>\n",
       "      <td>2021-02-02T21:33:57.804000Z</td>\n",
       "    </tr>\n",
       "    <tr>\n",
       "      <th>2</th>\n",
       "      <td>f2ab0</td>\n",
       "      <td>416.181447</td>\n",
       "      <td>POP</td>\n",
       "      <td>72bb2cf2-aadf-4710-a83f-eea105fcc65e</td>\n",
       "      <td>ka417cc5</td>\n",
       "      <td>2020-12-26T19:56:54.337000Z</td>\n",
       "      <td>2020-12-26T19:50:47.469000Z</td>\n",
       "    </tr>\n",
       "    <tr>\n",
       "      <th>3</th>\n",
       "      <td>1c9f4</td>\n",
       "      <td>395.104341</td>\n",
       "      <td>R&amp;B</td>\n",
       "      <td>7332a4ff-4c0c-40b9-bac6-730430b2d0d4</td>\n",
       "      <td>10dk9313</td>\n",
       "      <td>2021-01-22T03:41:08.922000Z</td>\n",
       "      <td>2021-01-22T03:34:37.926000Z</td>\n",
       "    </tr>\n",
       "    <tr>\n",
       "      <th>4</th>\n",
       "      <td>2b40a</td>\n",
       "      <td>786.919972</td>\n",
       "      <td>ELECTRONICS</td>\n",
       "      <td>9d40ee8c-6cb9-4b7d-9a0e-ceaf02cd8002</td>\n",
       "      <td>47e17k7a</td>\n",
       "      <td>2021-01-21T15:20:32.226000Z</td>\n",
       "      <td>2021-01-21T15:09:47.531000Z</td>\n",
       "    </tr>\n",
       "    <tr>\n",
       "      <th>...</th>\n",
       "      <td>...</td>\n",
       "      <td>...</td>\n",
       "      <td>...</td>\n",
       "      <td>...</td>\n",
       "      <td>...</td>\n",
       "      <td>...</td>\n",
       "      <td>...</td>\n",
       "    </tr>\n",
       "    <tr>\n",
       "      <th>842364</th>\n",
       "      <td>c6235</td>\n",
       "      <td>445.842668</td>\n",
       "      <td>POP</td>\n",
       "      <td>65db0eed-93a6-43eb-aca3-6d49f7d8484e</td>\n",
       "      <td>5ddf8aa0</td>\n",
       "      <td>2021-02-10T23:12:51.893000Z</td>\n",
       "      <td>2021-02-10T23:06:42.736000Z</td>\n",
       "    </tr>\n",
       "    <tr>\n",
       "      <th>842365</th>\n",
       "      <td>c715f</td>\n",
       "      <td>760.798642</td>\n",
       "      <td>ELECTRONICS</td>\n",
       "      <td>c15eba7a-dbde-4ea9-bc30-b734490f7ab4</td>\n",
       "      <td>fb8bab5a</td>\n",
       "      <td>2021-01-31T04:46:50.603000Z</td>\n",
       "      <td>2021-01-31T04:36:27.561000Z</td>\n",
       "    </tr>\n",
       "    <tr>\n",
       "      <th>842366</th>\n",
       "      <td>acf0f</td>\n",
       "      <td>427.210528</td>\n",
       "      <td>POP</td>\n",
       "      <td>751b46c5-4924-4b52-a77d-9da9e568ec89</td>\n",
       "      <td>a050bf41</td>\n",
       "      <td>2021-01-16T09:13:56.795000Z</td>\n",
       "      <td>2021-01-16T09:07:30.965000Z</td>\n",
       "    </tr>\n",
       "    <tr>\n",
       "      <th>842367</th>\n",
       "      <td>7c570</td>\n",
       "      <td>452.945564</td>\n",
       "      <td>VOCAL</td>\n",
       "      <td>bb71be9b-7c51-4e89-9608-c51381941d34</td>\n",
       "      <td>a95k3fa3</td>\n",
       "      <td>2021-02-28T06:18:13.383000Z</td>\n",
       "      <td>2021-02-28T06:17:14.588000Z</td>\n",
       "    </tr>\n",
       "    <tr>\n",
       "      <th>842368</th>\n",
       "      <td>a76cd</td>\n",
       "      <td>432.398848</td>\n",
       "      <td>DANCE</td>\n",
       "      <td>67b8fba4-8d54-4906-957a-e70f9ad3fced</td>\n",
       "      <td>1k1k1f80</td>\n",
       "      <td>2021-02-07T20:53:33.356000Z</td>\n",
       "      <td>2021-02-07T20:46:56.848000Z</td>\n",
       "    </tr>\n",
       "  </tbody>\n",
       "</table>\n",
       "<p>842369 rows × 7 columns</p>\n",
       "</div>"
      ],
      "text/plain": [
       "       play_id  song_duration   song_genre  \\\n",
       "0        4a4d0     550.605795      DUBSTEP   \n",
       "1        z553d     441.123734         ROCK   \n",
       "2        f2ab0     416.181447          POP   \n",
       "3        1c9f4     395.104341          R&B   \n",
       "4        2b40a     786.919972  ELECTRONICS   \n",
       "...        ...            ...          ...   \n",
       "842364   c6235     445.842668          POP   \n",
       "842365   c715f     760.798642  ELECTRONICS   \n",
       "842366   acf0f     427.210528          POP   \n",
       "842367   7c570     452.945564        VOCAL   \n",
       "842368   a76cd     432.398848        DANCE   \n",
       "\n",
       "                                     song_id   user_id  \\\n",
       "0       f256c6af-029f-43b5-97f0-79ed6d2afc96  ed07abk8   \n",
       "1       166148d1-ad74-421c-ab58-4d1059c3c694  ke53efc9   \n",
       "2       72bb2cf2-aadf-4710-a83f-eea105fcc65e  ka417cc5   \n",
       "3       7332a4ff-4c0c-40b9-bac6-730430b2d0d4  10dk9313   \n",
       "4       9d40ee8c-6cb9-4b7d-9a0e-ceaf02cd8002  47e17k7a   \n",
       "...                                      ...       ...   \n",
       "842364  65db0eed-93a6-43eb-aca3-6d49f7d8484e  5ddf8aa0   \n",
       "842365  c15eba7a-dbde-4ea9-bc30-b734490f7ab4  fb8bab5a   \n",
       "842366  751b46c5-4924-4b52-a77d-9da9e568ec89  a050bf41   \n",
       "842367  bb71be9b-7c51-4e89-9608-c51381941d34  a95k3fa3   \n",
       "842368  67b8fba4-8d54-4906-957a-e70f9ad3fced  1k1k1f80   \n",
       "\n",
       "                       utc_play_end               utc_play_start  \n",
       "0       2021-01-03T12:46:40.097000Z  2021-01-03T12:37:41.401000Z  \n",
       "1       2021-02-02T21:40:24.993000Z  2021-02-02T21:33:57.804000Z  \n",
       "2       2020-12-26T19:56:54.337000Z  2020-12-26T19:50:47.469000Z  \n",
       "3       2021-01-22T03:41:08.922000Z  2021-01-22T03:34:37.926000Z  \n",
       "4       2021-01-21T15:20:32.226000Z  2021-01-21T15:09:47.531000Z  \n",
       "...                             ...                          ...  \n",
       "842364  2021-02-10T23:12:51.893000Z  2021-02-10T23:06:42.736000Z  \n",
       "842365  2021-01-31T04:46:50.603000Z  2021-01-31T04:36:27.561000Z  \n",
       "842366  2021-01-16T09:13:56.795000Z  2021-01-16T09:07:30.965000Z  \n",
       "842367  2021-02-28T06:18:13.383000Z  2021-02-28T06:17:14.588000Z  \n",
       "842368  2021-02-07T20:53:33.356000Z  2021-02-07T20:46:56.848000Z  \n",
       "\n",
       "[842369 rows x 7 columns]"
      ]
     },
     "execution_count": 4,
     "metadata": {},
     "output_type": "execute_result"
    }
   ],
   "source": [
    "df"
   ]
  },
  {
   "cell_type": "code",
   "execution_count": 5,
   "metadata": {
    "scrolled": true
   },
   "outputs": [
    {
     "data": {
      "text/plain": [
       "False"
      ]
     },
     "execution_count": 5,
     "metadata": {},
     "output_type": "execute_result"
    }
   ],
   "source": [
    "df.head()\n",
    "df.dtypes\n",
    "df.isnull().values.any() # there are no missing values in the dataset"
   ]
  },
  {
   "cell_type": "code",
   "execution_count": 46,
   "metadata": {},
   "outputs": [],
   "source": [
    "################################################################\n",
    "# Data Preprocessing\n",
    "################################################################\n",
    "################################################################\n",
    "# Подготовка df для последующей работы\n",
    "################################################################"
   ]
  },
  {
   "cell_type": "code",
   "execution_count": 6,
   "metadata": {},
   "outputs": [],
   "source": [
    "# Convert UTC to DateTime\n",
    "# Приведем все даты к DateTime формату с микросекундами\n",
    "df['utc_play_end'] = pd.to_datetime(df['utc_play_end'])\n",
    "df['utc_play_start'] = pd.to_datetime(df['utc_play_start'])"
   ]
  },
  {
   "cell_type": "code",
   "execution_count": 7,
   "metadata": {},
   "outputs": [],
   "source": [
    "# Add 'play_duration' column - time spending on listening to song. \n",
    "# Добавим столбец 'play_duration' - время прослушивания трека. \n",
    "df['play_duration'] = [(df.utc_play_end[i] - df.utc_play_start[i]).total_seconds() for i in range(len(df)) ]\n",
    "# Add 'completion' column - what share of song was listened to.\n",
    "# Добавим столбец 'completion' - какую часть трека прослушал пользователь.\n",
    "df['completion'] = df.play_duration/df.song_duration"
   ]
  },
  {
   "cell_type": "code",
   "execution_count": 8,
   "metadata": {},
   "outputs": [
    {
     "data": {
      "text/html": [
       "<div>\n",
       "<style scoped>\n",
       "    .dataframe tbody tr th:only-of-type {\n",
       "        vertical-align: middle;\n",
       "    }\n",
       "\n",
       "    .dataframe tbody tr th {\n",
       "        vertical-align: top;\n",
       "    }\n",
       "\n",
       "    .dataframe thead th {\n",
       "        text-align: right;\n",
       "    }\n",
       "</style>\n",
       "<table border=\"1\" class=\"dataframe\">\n",
       "  <thead>\n",
       "    <tr style=\"text-align: right;\">\n",
       "      <th></th>\n",
       "      <th>play_id</th>\n",
       "      <th>song_duration</th>\n",
       "      <th>song_genre</th>\n",
       "      <th>song_id</th>\n",
       "      <th>user_id</th>\n",
       "      <th>utc_play_end</th>\n",
       "      <th>utc_play_start</th>\n",
       "      <th>play_duration</th>\n",
       "      <th>completion</th>\n",
       "    </tr>\n",
       "  </thead>\n",
       "  <tbody>\n",
       "    <tr>\n",
       "      <th>0</th>\n",
       "      <td>4a4d0</td>\n",
       "      <td>550.605795</td>\n",
       "      <td>DUBSTEP</td>\n",
       "      <td>f256c6af-029f-43b5-97f0-79ed6d2afc96</td>\n",
       "      <td>ed07abk8</td>\n",
       "      <td>2021-01-03 12:46:40.097000+00:00</td>\n",
       "      <td>2021-01-03 12:37:41.401000+00:00</td>\n",
       "      <td>538.696</td>\n",
       "      <td>0.978370</td>\n",
       "    </tr>\n",
       "    <tr>\n",
       "      <th>1</th>\n",
       "      <td>z553d</td>\n",
       "      <td>441.123734</td>\n",
       "      <td>ROCK</td>\n",
       "      <td>166148d1-ad74-421c-ab58-4d1059c3c694</td>\n",
       "      <td>ke53efc9</td>\n",
       "      <td>2021-02-02 21:40:24.993000+00:00</td>\n",
       "      <td>2021-02-02 21:33:57.804000+00:00</td>\n",
       "      <td>387.189</td>\n",
       "      <td>0.877733</td>\n",
       "    </tr>\n",
       "    <tr>\n",
       "      <th>2</th>\n",
       "      <td>f2ab0</td>\n",
       "      <td>416.181447</td>\n",
       "      <td>POP</td>\n",
       "      <td>72bb2cf2-aadf-4710-a83f-eea105fcc65e</td>\n",
       "      <td>ka417cc5</td>\n",
       "      <td>2020-12-26 19:56:54.337000+00:00</td>\n",
       "      <td>2020-12-26 19:50:47.469000+00:00</td>\n",
       "      <td>366.868</td>\n",
       "      <td>0.881510</td>\n",
       "    </tr>\n",
       "    <tr>\n",
       "      <th>3</th>\n",
       "      <td>1c9f4</td>\n",
       "      <td>395.104341</td>\n",
       "      <td>R&amp;B</td>\n",
       "      <td>7332a4ff-4c0c-40b9-bac6-730430b2d0d4</td>\n",
       "      <td>10dk9313</td>\n",
       "      <td>2021-01-22 03:41:08.922000+00:00</td>\n",
       "      <td>2021-01-22 03:34:37.926000+00:00</td>\n",
       "      <td>390.996</td>\n",
       "      <td>0.989602</td>\n",
       "    </tr>\n",
       "    <tr>\n",
       "      <th>4</th>\n",
       "      <td>2b40a</td>\n",
       "      <td>786.919972</td>\n",
       "      <td>ELECTRONICS</td>\n",
       "      <td>9d40ee8c-6cb9-4b7d-9a0e-ceaf02cd8002</td>\n",
       "      <td>47e17k7a</td>\n",
       "      <td>2021-01-21 15:20:32.226000+00:00</td>\n",
       "      <td>2021-01-21 15:09:47.531000+00:00</td>\n",
       "      <td>644.695</td>\n",
       "      <td>0.819264</td>\n",
       "    </tr>\n",
       "    <tr>\n",
       "      <th>...</th>\n",
       "      <td>...</td>\n",
       "      <td>...</td>\n",
       "      <td>...</td>\n",
       "      <td>...</td>\n",
       "      <td>...</td>\n",
       "      <td>...</td>\n",
       "      <td>...</td>\n",
       "      <td>...</td>\n",
       "      <td>...</td>\n",
       "    </tr>\n",
       "    <tr>\n",
       "      <th>842364</th>\n",
       "      <td>c6235</td>\n",
       "      <td>445.842668</td>\n",
       "      <td>POP</td>\n",
       "      <td>65db0eed-93a6-43eb-aca3-6d49f7d8484e</td>\n",
       "      <td>5ddf8aa0</td>\n",
       "      <td>2021-02-10 23:12:51.893000+00:00</td>\n",
       "      <td>2021-02-10 23:06:42.736000+00:00</td>\n",
       "      <td>369.157</td>\n",
       "      <td>0.827998</td>\n",
       "    </tr>\n",
       "    <tr>\n",
       "      <th>842365</th>\n",
       "      <td>c715f</td>\n",
       "      <td>760.798642</td>\n",
       "      <td>ELECTRONICS</td>\n",
       "      <td>c15eba7a-dbde-4ea9-bc30-b734490f7ab4</td>\n",
       "      <td>fb8bab5a</td>\n",
       "      <td>2021-01-31 04:46:50.603000+00:00</td>\n",
       "      <td>2021-01-31 04:36:27.561000+00:00</td>\n",
       "      <td>623.042</td>\n",
       "      <td>0.818932</td>\n",
       "    </tr>\n",
       "    <tr>\n",
       "      <th>842366</th>\n",
       "      <td>acf0f</td>\n",
       "      <td>427.210528</td>\n",
       "      <td>POP</td>\n",
       "      <td>751b46c5-4924-4b52-a77d-9da9e568ec89</td>\n",
       "      <td>a050bf41</td>\n",
       "      <td>2021-01-16 09:13:56.795000+00:00</td>\n",
       "      <td>2021-01-16 09:07:30.965000+00:00</td>\n",
       "      <td>385.830</td>\n",
       "      <td>0.903138</td>\n",
       "    </tr>\n",
       "    <tr>\n",
       "      <th>842367</th>\n",
       "      <td>7c570</td>\n",
       "      <td>452.945564</td>\n",
       "      <td>VOCAL</td>\n",
       "      <td>bb71be9b-7c51-4e89-9608-c51381941d34</td>\n",
       "      <td>a95k3fa3</td>\n",
       "      <td>2021-02-28 06:18:13.383000+00:00</td>\n",
       "      <td>2021-02-28 06:17:14.588000+00:00</td>\n",
       "      <td>58.795</td>\n",
       "      <td>0.129806</td>\n",
       "    </tr>\n",
       "    <tr>\n",
       "      <th>842368</th>\n",
       "      <td>a76cd</td>\n",
       "      <td>432.398848</td>\n",
       "      <td>DANCE</td>\n",
       "      <td>67b8fba4-8d54-4906-957a-e70f9ad3fced</td>\n",
       "      <td>1k1k1f80</td>\n",
       "      <td>2021-02-07 20:53:33.356000+00:00</td>\n",
       "      <td>2021-02-07 20:46:56.848000+00:00</td>\n",
       "      <td>396.508</td>\n",
       "      <td>0.916996</td>\n",
       "    </tr>\n",
       "  </tbody>\n",
       "</table>\n",
       "<p>842369 rows × 9 columns</p>\n",
       "</div>"
      ],
      "text/plain": [
       "       play_id  song_duration   song_genre  \\\n",
       "0        4a4d0     550.605795      DUBSTEP   \n",
       "1        z553d     441.123734         ROCK   \n",
       "2        f2ab0     416.181447          POP   \n",
       "3        1c9f4     395.104341          R&B   \n",
       "4        2b40a     786.919972  ELECTRONICS   \n",
       "...        ...            ...          ...   \n",
       "842364   c6235     445.842668          POP   \n",
       "842365   c715f     760.798642  ELECTRONICS   \n",
       "842366   acf0f     427.210528          POP   \n",
       "842367   7c570     452.945564        VOCAL   \n",
       "842368   a76cd     432.398848        DANCE   \n",
       "\n",
       "                                     song_id   user_id  \\\n",
       "0       f256c6af-029f-43b5-97f0-79ed6d2afc96  ed07abk8   \n",
       "1       166148d1-ad74-421c-ab58-4d1059c3c694  ke53efc9   \n",
       "2       72bb2cf2-aadf-4710-a83f-eea105fcc65e  ka417cc5   \n",
       "3       7332a4ff-4c0c-40b9-bac6-730430b2d0d4  10dk9313   \n",
       "4       9d40ee8c-6cb9-4b7d-9a0e-ceaf02cd8002  47e17k7a   \n",
       "...                                      ...       ...   \n",
       "842364  65db0eed-93a6-43eb-aca3-6d49f7d8484e  5ddf8aa0   \n",
       "842365  c15eba7a-dbde-4ea9-bc30-b734490f7ab4  fb8bab5a   \n",
       "842366  751b46c5-4924-4b52-a77d-9da9e568ec89  a050bf41   \n",
       "842367  bb71be9b-7c51-4e89-9608-c51381941d34  a95k3fa3   \n",
       "842368  67b8fba4-8d54-4906-957a-e70f9ad3fced  1k1k1f80   \n",
       "\n",
       "                           utc_play_end                   utc_play_start  \\\n",
       "0      2021-01-03 12:46:40.097000+00:00 2021-01-03 12:37:41.401000+00:00   \n",
       "1      2021-02-02 21:40:24.993000+00:00 2021-02-02 21:33:57.804000+00:00   \n",
       "2      2020-12-26 19:56:54.337000+00:00 2020-12-26 19:50:47.469000+00:00   \n",
       "3      2021-01-22 03:41:08.922000+00:00 2021-01-22 03:34:37.926000+00:00   \n",
       "4      2021-01-21 15:20:32.226000+00:00 2021-01-21 15:09:47.531000+00:00   \n",
       "...                                 ...                              ...   \n",
       "842364 2021-02-10 23:12:51.893000+00:00 2021-02-10 23:06:42.736000+00:00   \n",
       "842365 2021-01-31 04:46:50.603000+00:00 2021-01-31 04:36:27.561000+00:00   \n",
       "842366 2021-01-16 09:13:56.795000+00:00 2021-01-16 09:07:30.965000+00:00   \n",
       "842367 2021-02-28 06:18:13.383000+00:00 2021-02-28 06:17:14.588000+00:00   \n",
       "842368 2021-02-07 20:53:33.356000+00:00 2021-02-07 20:46:56.848000+00:00   \n",
       "\n",
       "        play_duration  completion  \n",
       "0             538.696    0.978370  \n",
       "1             387.189    0.877733  \n",
       "2             366.868    0.881510  \n",
       "3             390.996    0.989602  \n",
       "4             644.695    0.819264  \n",
       "...               ...         ...  \n",
       "842364        369.157    0.827998  \n",
       "842365        623.042    0.818932  \n",
       "842366        385.830    0.903138  \n",
       "842367         58.795    0.129806  \n",
       "842368        396.508    0.916996  \n",
       "\n",
       "[842369 rows x 9 columns]"
      ]
     },
     "execution_count": 8,
     "metadata": {},
     "output_type": "execute_result"
    }
   ],
   "source": [
    "df"
   ]
  },
  {
   "cell_type": "code",
   "execution_count": 9,
   "metadata": {},
   "outputs": [
    {
     "name": "stdout",
     "output_type": "stream",
     "text": [
      "count    842369.000000\n",
      "mean        425.733166\n",
      "std         696.762870\n",
      "min           0.005000\n",
      "25%         128.326000\n",
      "50%         316.266000\n",
      "75%         397.081000\n",
      "max        5854.082000\n",
      "Name: play_duration, dtype: float64\n"
     ]
    },
    {
     "data": {
      "text/plain": [
       "count    842369.000000\n",
       "mean          0.594901\n",
       "std           0.305718\n",
       "min           0.000013\n",
       "25%           0.249950\n",
       "50%           0.732818\n",
       "75%           0.848307\n",
       "max           1.273641\n",
       "Name: completion, dtype: float64"
      ]
     },
     "execution_count": 9,
     "metadata": {},
     "output_type": "execute_result"
    }
   ],
   "source": [
    "# Let's check the new columns\n",
    "# Gроверим новые столбцы\n",
    "print(df.play_duration.describe())\n",
    "df.completion.describe()"
   ]
  },
  {
   "cell_type": "code",
   "execution_count": 10,
   "metadata": {},
   "outputs": [
    {
     "data": {
      "text/html": [
       "<div>\n",
       "<style scoped>\n",
       "    .dataframe tbody tr th:only-of-type {\n",
       "        vertical-align: middle;\n",
       "    }\n",
       "\n",
       "    .dataframe tbody tr th {\n",
       "        vertical-align: top;\n",
       "    }\n",
       "\n",
       "    .dataframe thead th {\n",
       "        text-align: right;\n",
       "    }\n",
       "</style>\n",
       "<table border=\"1\" class=\"dataframe\">\n",
       "  <thead>\n",
       "    <tr style=\"text-align: right;\">\n",
       "      <th></th>\n",
       "      <th>play_id</th>\n",
       "      <th>song_duration</th>\n",
       "      <th>song_genre</th>\n",
       "      <th>song_id</th>\n",
       "      <th>user_id</th>\n",
       "      <th>utc_play_end</th>\n",
       "      <th>utc_play_start</th>\n",
       "      <th>play_duration</th>\n",
       "      <th>completion</th>\n",
       "    </tr>\n",
       "  </thead>\n",
       "  <tbody>\n",
       "    <tr>\n",
       "      <th>59</th>\n",
       "      <td>6aza7</td>\n",
       "      <td>423.957482</td>\n",
       "      <td>POP</td>\n",
       "      <td>5050d3a9-b428-4b86-93be-886f778f5c8c</td>\n",
       "      <td>b8f14083</td>\n",
       "      <td>2021-02-01 17:44:25.521000+00:00</td>\n",
       "      <td>2021-02-01 17:37:11.437000+00:00</td>\n",
       "      <td>434.084</td>\n",
       "      <td>1.023886</td>\n",
       "    </tr>\n",
       "    <tr>\n",
       "      <th>280</th>\n",
       "      <td>dz213</td>\n",
       "      <td>376.408851</td>\n",
       "      <td>POP</td>\n",
       "      <td>7588d603-74f7-44cd-bd6c-1e64cf89a887</td>\n",
       "      <td>47c0ad8b</td>\n",
       "      <td>2021-02-23 17:14:13.267000+00:00</td>\n",
       "      <td>2021-02-23 17:07:49.413000+00:00</td>\n",
       "      <td>383.854</td>\n",
       "      <td>1.019779</td>\n",
       "    </tr>\n",
       "    <tr>\n",
       "      <th>326</th>\n",
       "      <td>ca90d</td>\n",
       "      <td>428.627360</td>\n",
       "      <td>POP</td>\n",
       "      <td>dd7be21b-f3f8-4ac5-b851-9b18516303b4</td>\n",
       "      <td>dc3703b3</td>\n",
       "      <td>2021-02-06 21:56:24.553000+00:00</td>\n",
       "      <td>2021-02-06 21:48:32.262000+00:00</td>\n",
       "      <td>472.291</td>\n",
       "      <td>1.101869</td>\n",
       "    </tr>\n",
       "    <tr>\n",
       "      <th>338</th>\n",
       "      <td>1085b</td>\n",
       "      <td>370.291990</td>\n",
       "      <td>R&amp;B</td>\n",
       "      <td>efd614e5-239a-418e-b39c-181b43719b62</td>\n",
       "      <td>3d44f9e7</td>\n",
       "      <td>2021-01-26 16:12:52.342000+00:00</td>\n",
       "      <td>2021-01-26 16:06:38.636000+00:00</td>\n",
       "      <td>373.706</td>\n",
       "      <td>1.009220</td>\n",
       "    </tr>\n",
       "    <tr>\n",
       "      <th>368</th>\n",
       "      <td>4a22z</td>\n",
       "      <td>515.262769</td>\n",
       "      <td>COUNTRY</td>\n",
       "      <td>655a1749-b182-459d-b9a2-1e67b252ea8d</td>\n",
       "      <td>k4ad3b9f</td>\n",
       "      <td>2021-02-27 17:34:20.069000+00:00</td>\n",
       "      <td>2021-02-27 17:25:18.242000+00:00</td>\n",
       "      <td>541.827</td>\n",
       "      <td>1.051555</td>\n",
       "    </tr>\n",
       "    <tr>\n",
       "      <th>...</th>\n",
       "      <td>...</td>\n",
       "      <td>...</td>\n",
       "      <td>...</td>\n",
       "      <td>...</td>\n",
       "      <td>...</td>\n",
       "      <td>...</td>\n",
       "      <td>...</td>\n",
       "      <td>...</td>\n",
       "      <td>...</td>\n",
       "    </tr>\n",
       "    <tr>\n",
       "      <th>841989</th>\n",
       "      <td>35a1b</td>\n",
       "      <td>454.863620</td>\n",
       "      <td>POP</td>\n",
       "      <td>9a48f670-e959-4168-9920-51ccd026a476</td>\n",
       "      <td>ceda0b4c</td>\n",
       "      <td>2021-01-03 12:21:25.673000+00:00</td>\n",
       "      <td>2021-01-03 12:13:33.955000+00:00</td>\n",
       "      <td>471.718</td>\n",
       "      <td>1.037054</td>\n",
       "    </tr>\n",
       "    <tr>\n",
       "      <th>841997</th>\n",
       "      <td>5az2a</td>\n",
       "      <td>508.918592</td>\n",
       "      <td>METAL</td>\n",
       "      <td>6e1a25f8-4e2b-4a57-9b3b-f22507d1a792</td>\n",
       "      <td>9e05f4ae</td>\n",
       "      <td>2021-02-18 20:49:15.558000+00:00</td>\n",
       "      <td>2021-02-18 20:40:31.831000+00:00</td>\n",
       "      <td>523.727</td>\n",
       "      <td>1.029098</td>\n",
       "    </tr>\n",
       "    <tr>\n",
       "      <th>842069</th>\n",
       "      <td>8703</td>\n",
       "      <td>436.094202</td>\n",
       "      <td>ROCK</td>\n",
       "      <td>d20088c6-807d-4915-a55f-13de7fdaa921</td>\n",
       "      <td>55fkd39d</td>\n",
       "      <td>2021-01-29 10:39:34.486000+00:00</td>\n",
       "      <td>2021-01-29 10:32:17.095000+00:00</td>\n",
       "      <td>437.391</td>\n",
       "      <td>1.002974</td>\n",
       "    </tr>\n",
       "    <tr>\n",
       "      <th>842281</th>\n",
       "      <td>47c94</td>\n",
       "      <td>452.766558</td>\n",
       "      <td>ROCK</td>\n",
       "      <td>66f85dcd-6623-4ecf-8bf0-ec040d59deef</td>\n",
       "      <td>8afdeke5</td>\n",
       "      <td>2020-12-26 09:21:57.191000+00:00</td>\n",
       "      <td>2020-12-26 09:14:23.586000+00:00</td>\n",
       "      <td>453.605</td>\n",
       "      <td>1.001852</td>\n",
       "    </tr>\n",
       "    <tr>\n",
       "      <th>842357</th>\n",
       "      <td>93269</td>\n",
       "      <td>422.508605</td>\n",
       "      <td>POP</td>\n",
       "      <td>d2db-4b50</td>\n",
       "      <td>ck894a3c</td>\n",
       "      <td>2021-02-20 14:51:05.363000+00:00</td>\n",
       "      <td>2021-02-20 14:43:56.494000+00:00</td>\n",
       "      <td>428.869</td>\n",
       "      <td>1.015054</td>\n",
       "    </tr>\n",
       "  </tbody>\n",
       "</table>\n",
       "<p>10166 rows × 9 columns</p>\n",
       "</div>"
      ],
      "text/plain": [
       "       play_id  song_duration song_genre  \\\n",
       "59       6aza7     423.957482        POP   \n",
       "280      dz213     376.408851        POP   \n",
       "326      ca90d     428.627360        POP   \n",
       "338      1085b     370.291990        R&B   \n",
       "368      4a22z     515.262769    COUNTRY   \n",
       "...        ...            ...        ...   \n",
       "841989   35a1b     454.863620        POP   \n",
       "841997   5az2a     508.918592      METAL   \n",
       "842069    8703     436.094202       ROCK   \n",
       "842281   47c94     452.766558       ROCK   \n",
       "842357   93269     422.508605        POP   \n",
       "\n",
       "                                     song_id   user_id  \\\n",
       "59      5050d3a9-b428-4b86-93be-886f778f5c8c  b8f14083   \n",
       "280     7588d603-74f7-44cd-bd6c-1e64cf89a887  47c0ad8b   \n",
       "326     dd7be21b-f3f8-4ac5-b851-9b18516303b4  dc3703b3   \n",
       "338     efd614e5-239a-418e-b39c-181b43719b62  3d44f9e7   \n",
       "368     655a1749-b182-459d-b9a2-1e67b252ea8d  k4ad3b9f   \n",
       "...                                      ...       ...   \n",
       "841989  9a48f670-e959-4168-9920-51ccd026a476  ceda0b4c   \n",
       "841997  6e1a25f8-4e2b-4a57-9b3b-f22507d1a792  9e05f4ae   \n",
       "842069  d20088c6-807d-4915-a55f-13de7fdaa921  55fkd39d   \n",
       "842281  66f85dcd-6623-4ecf-8bf0-ec040d59deef  8afdeke5   \n",
       "842357                             d2db-4b50  ck894a3c   \n",
       "\n",
       "                           utc_play_end                   utc_play_start  \\\n",
       "59     2021-02-01 17:44:25.521000+00:00 2021-02-01 17:37:11.437000+00:00   \n",
       "280    2021-02-23 17:14:13.267000+00:00 2021-02-23 17:07:49.413000+00:00   \n",
       "326    2021-02-06 21:56:24.553000+00:00 2021-02-06 21:48:32.262000+00:00   \n",
       "338    2021-01-26 16:12:52.342000+00:00 2021-01-26 16:06:38.636000+00:00   \n",
       "368    2021-02-27 17:34:20.069000+00:00 2021-02-27 17:25:18.242000+00:00   \n",
       "...                                 ...                              ...   \n",
       "841989 2021-01-03 12:21:25.673000+00:00 2021-01-03 12:13:33.955000+00:00   \n",
       "841997 2021-02-18 20:49:15.558000+00:00 2021-02-18 20:40:31.831000+00:00   \n",
       "842069 2021-01-29 10:39:34.486000+00:00 2021-01-29 10:32:17.095000+00:00   \n",
       "842281 2020-12-26 09:21:57.191000+00:00 2020-12-26 09:14:23.586000+00:00   \n",
       "842357 2021-02-20 14:51:05.363000+00:00 2021-02-20 14:43:56.494000+00:00   \n",
       "\n",
       "        play_duration  completion  \n",
       "59            434.084    1.023886  \n",
       "280           383.854    1.019779  \n",
       "326           472.291    1.101869  \n",
       "338           373.706    1.009220  \n",
       "368           541.827    1.051555  \n",
       "...               ...         ...  \n",
       "841989        471.718    1.037054  \n",
       "841997        523.727    1.029098  \n",
       "842069        437.391    1.002974  \n",
       "842281        453.605    1.001852  \n",
       "842357        428.869    1.015054  \n",
       "\n",
       "[10166 rows x 9 columns]"
      ]
     },
     "execution_count": 10,
     "metadata": {},
     "output_type": "execute_result"
    }
   ],
   "source": [
    "# We may see that max value in 'completion' column > 1.\n",
    "# Мы можем видеть, что максимальное значение в столбце 'completion' больше 1.\n",
    "df[df.completion > 1]\n",
    "# There are severeral cases with 'completion' value > 1.\n",
    "# We know nothing about pauses tracking in the database. Probably, user just paused song for a short period of\n",
    "#time.\n",
    "# Видно, что это не единичный случай. \n",
    "# В описании данных ничего не сказано о том, как учитываются паузы. Вероятнее всего, пользователь поставил трек на паузу,\n",
    "# после чего в скором времени возобновил произведение. "
   ]
  },
  {
   "cell_type": "code",
   "execution_count": 11,
   "metadata": {},
   "outputs": [],
   "source": [
    "# Replace values > 1 in 'completion' column with 1.\n",
    "# Заменим в столбце 'completion' значения, которые больше 1, на 1\n",
    "df.loc[df.completion > 1, 'completion'] = 1\n"
   ]
  },
  {
   "cell_type": "code",
   "execution_count": 12,
   "metadata": {},
   "outputs": [
    {
     "data": {
      "text/html": [
       "<div>\n",
       "<style scoped>\n",
       "    .dataframe tbody tr th:only-of-type {\n",
       "        vertical-align: middle;\n",
       "    }\n",
       "\n",
       "    .dataframe tbody tr th {\n",
       "        vertical-align: top;\n",
       "    }\n",
       "\n",
       "    .dataframe thead th {\n",
       "        text-align: right;\n",
       "    }\n",
       "</style>\n",
       "<table border=\"1\" class=\"dataframe\">\n",
       "  <thead>\n",
       "    <tr style=\"text-align: right;\">\n",
       "      <th></th>\n",
       "      <th>song_duration</th>\n",
       "      <th>play_duration</th>\n",
       "      <th>completion</th>\n",
       "    </tr>\n",
       "  </thead>\n",
       "  <tbody>\n",
       "    <tr>\n",
       "      <th>count</th>\n",
       "      <td>59481.000000</td>\n",
       "      <td>59481.000000</td>\n",
       "      <td>59481.000000</td>\n",
       "    </tr>\n",
       "    <tr>\n",
       "      <th>mean</th>\n",
       "      <td>516.566165</td>\n",
       "      <td>307.524225</td>\n",
       "      <td>0.594955</td>\n",
       "    </tr>\n",
       "    <tr>\n",
       "      <th>std</th>\n",
       "      <td>25.680164</td>\n",
       "      <td>158.653022</td>\n",
       "      <td>0.304794</td>\n",
       "    </tr>\n",
       "    <tr>\n",
       "      <th>min</th>\n",
       "      <td>441.359091</td>\n",
       "      <td>0.076000</td>\n",
       "      <td>0.000146</td>\n",
       "    </tr>\n",
       "    <tr>\n",
       "      <th>25%</th>\n",
       "      <td>498.628266</td>\n",
       "      <td>129.922000</td>\n",
       "      <td>0.251692</td>\n",
       "    </tr>\n",
       "    <tr>\n",
       "      <th>50%</th>\n",
       "      <td>517.287272</td>\n",
       "      <td>375.007000</td>\n",
       "      <td>0.733672</td>\n",
       "    </tr>\n",
       "    <tr>\n",
       "      <th>75%</th>\n",
       "      <td>532.763607</td>\n",
       "      <td>436.975000</td>\n",
       "      <td>0.848748</td>\n",
       "    </tr>\n",
       "    <tr>\n",
       "      <th>max</th>\n",
       "      <td>617.501221</td>\n",
       "      <td>664.485000</td>\n",
       "      <td>1.000000</td>\n",
       "    </tr>\n",
       "  </tbody>\n",
       "</table>\n",
       "</div>"
      ],
      "text/plain": [
       "       song_duration  play_duration    completion\n",
       "count   59481.000000   59481.000000  59481.000000\n",
       "mean      516.566165     307.524225      0.594955\n",
       "std        25.680164     158.653022      0.304794\n",
       "min       441.359091       0.076000      0.000146\n",
       "25%       498.628266     129.922000      0.251692\n",
       "50%       517.287272     375.007000      0.733672\n",
       "75%       532.763607     436.975000      0.848748\n",
       "max       617.501221     664.485000      1.000000"
      ]
     },
     "execution_count": 12,
     "metadata": {},
     "output_type": "execute_result"
    }
   ],
   "source": [
    "df[df.song_genre == 'COUNTRY'].describe()"
   ]
  },
  {
   "cell_type": "code",
   "execution_count": 13,
   "metadata": {},
   "outputs": [
    {
     "data": {
      "text/plain": [
       "0"
      ]
     },
     "execution_count": 13,
     "metadata": {},
     "output_type": "execute_result"
    }
   ],
   "source": [
    "# Let's check if there are users who have never listened to COUNTRY songs. \n",
    "# Проверим, есть ли слушатели, которые ни разу не слушали треки жанра 'COUNTRY'\n",
    "len(df.user_id.unique()) - len(df[df.song_genre == 'COUNTRY'].user_id.unique())\n",
    "# Each user has experience in listening to COUNTRY\n",
    "# Каждый пользователь хотя бы раз слушал трек требуемого жанра"
   ]
  },
  {
   "cell_type": "code",
   "execution_count": 14,
   "metadata": {},
   "outputs": [
    {
     "data": {
      "image/png": "[encoded data removed]",
      "text/plain": [
       "<Figure size 432x288 with 1 Axes>"
      ]
     },
     "metadata": {
      "needs_background": "light"
     },
     "output_type": "display_data"
    }
   ],
   "source": [
    "# Let's check the rating of COUNTRY songs among the users\n",
    "# Оценим общую популярность жанра 'COUNTRY' среди аудитории\n",
    "df['song_genre'].value_counts().plot(kind='bar', color = 'pink');\n",
    "plt.title('PLAYED SONGS BY GENRE');\n",
    "plt.xlabel('GENRE');\n",
    "plt.ylabel('NUMBER OF SONGS');\n",
    "# COUNTRY is in TOP-5, but not the leader. \n",
    "# COUNTRY входит в пятерку самых прослушиваемых жанров, однако сильно отстает от POP и ROCK"
   ]
  },
  {
   "cell_type": "code",
   "execution_count": 15,
   "metadata": {},
   "outputs": [
    {
     "data": {
      "image/png": "[encoded data removed]",
      "text/plain": [
       "<Figure size 432x288 with 1 Axes>"
      ]
     },
     "metadata": {
      "needs_background": "light"
     },
     "output_type": "display_data"
    }
   ],
   "source": [
    "# Let's check how often users complete listening to COUNTRY songs\n",
    "# Посмотрим на то, как часто пользователи прослушивают треки жанра техно до конца\n",
    "df[df.song_genre == 'COUNTRY'].completion.hist(color = 'pink');\n",
    "plt.title('COMPLETION OF PLAYING COUNTRY SONGS');\n",
    "plt.xlabel('Completion level');\n",
    "plt.ylabel('Number of songs');"
   ]
  },
  {
   "cell_type": "code",
   "execution_count": 16,
   "metadata": {},
   "outputs": [
    {
     "data": {
      "text/plain": [
       "user_id\n",
       "a8b103ke     1\n",
       "k9b779d3     1\n",
       "dafkee0c     1\n",
       "acdak034     1\n",
       "10d5e9c7     1\n",
       "            ..\n",
       "d1dcd599    29\n",
       "91cc9a98    29\n",
       "e1193d31    29\n",
       "9kca89fd    30\n",
       "517k0k5k    31\n",
       "Name: play_id, Length: 1724, dtype: int64"
      ]
     },
     "execution_count": 16,
     "metadata": {},
     "output_type": "execute_result"
    }
   ],
   "source": [
    "# Let's find users who complete listening to COUNTRY often:\n",
    "# Посмотрим, какие пользователи стабильно дослушивают 'COUNTRY'\n",
    "df[(df.song_genre == 'COUNTRY') & (df.completion > 0.8)].groupby('user_id').play_id.count().sort_values()"
   ]
  },
  {
   "cell_type": "code",
   "execution_count": 17,
   "metadata": {},
   "outputs": [
    {
     "data": {
      "image/png": "[encoded data removed]",
      "text/plain": [
       "<Figure size 432x288 with 1 Axes>"
      ]
     },
     "metadata": {
      "needs_background": "light"
     },
     "output_type": "display_data"
    },
    {
     "data": {
      "image/png": "[encoded data removed]",
      "text/plain": [
       "<Figure size 432x288 with 1 Axes>"
      ]
     },
     "metadata": {
      "needs_background": "light"
     },
     "output_type": "display_data"
    },
    {
     "data": {
      "image/png": "[encoded data removed]",
      "text/plain": [
       "<Figure size 432x288 with 1 Axes>"
      ]
     },
     "metadata": {
      "needs_background": "light"
     },
     "output_type": "display_data"
    }
   ],
   "source": [
    "# 1724 out of 1727 users have experince in completing of fully listeting to COUNTRY songs\n",
    "# Let's look at 3 users who don't have such an experience \n",
    "# 1724 из 1727 пользователей хотя бы раз дослушивали треки жанра 'COUNTRY' до конца\n",
    "# Посмотрим на пользователей, который не входит в их число\n",
    "u = df[~df.user_id.isin(df[(df.song_genre == 'COUNTRY') & (df.completion > 0.8)].user_id.unique())].user_id.unique()\n",
    "for i in range(len(u)):\n",
    "    #plt.figure()\n",
    "    plt.title(f'User{u[i]}')\n",
    "    plt.xlabel('GENRE');\n",
    "    plt.ylabel('NUMBER OF SONGS');\n",
    "    df[df.user_id == u[i]].song_genre.value_counts().plot(kind='bar', color = 'pink');\n",
    "    plt.show()\n",
    "    "
   ]
  },
  {
   "cell_type": "code",
   "execution_count": 18,
   "metadata": {},
   "outputs": [
    {
     "data": {
      "text/plain": [
       "True"
      ]
     },
     "execution_count": 18,
     "metadata": {},
     "output_type": "execute_result"
    }
   ],
   "source": [
    "# Let's remove those users as they are not interested in COUNTRY music\n",
    "# Данных пользователей можно удалить из выборки, так как они точно не заинтересованы в жанре 'COUNTRY'\n",
    "df_new = df[~df['user_id'].isin(u)].copy()\n",
    "len(df.user_id.unique()) - len(df_new.user_id.unique()) == 3"
   ]
  },
  {
   "cell_type": "code",
   "execution_count": 19,
   "metadata": {},
   "outputs": [],
   "source": [
    "# Add 'day' column\n",
    "# Добавим вспомогательный столбец day\n",
    "df_new['day'] = df_new['utc_play_start'].dt.date"
   ]
  },
  {
   "cell_type": "code",
   "execution_count": 20,
   "metadata": {},
   "outputs": [
    {
     "data": {
      "text/html": [
       "<div>\n",
       "<style scoped>\n",
       "    .dataframe tbody tr th:only-of-type {\n",
       "        vertical-align: middle;\n",
       "    }\n",
       "\n",
       "    .dataframe tbody tr th {\n",
       "        vertical-align: top;\n",
       "    }\n",
       "\n",
       "    .dataframe thead th {\n",
       "        text-align: right;\n",
       "    }\n",
       "</style>\n",
       "<table border=\"1\" class=\"dataframe\">\n",
       "  <thead>\n",
       "    <tr style=\"text-align: right;\">\n",
       "      <th></th>\n",
       "      <th>play_id</th>\n",
       "      <th>song_duration</th>\n",
       "      <th>song_genre</th>\n",
       "      <th>song_id</th>\n",
       "      <th>user_id</th>\n",
       "      <th>utc_play_end</th>\n",
       "      <th>utc_play_start</th>\n",
       "      <th>play_duration</th>\n",
       "      <th>completion</th>\n",
       "      <th>day</th>\n",
       "    </tr>\n",
       "  </thead>\n",
       "  <tbody>\n",
       "    <tr>\n",
       "      <th>0</th>\n",
       "      <td>4a4d0</td>\n",
       "      <td>550.605795</td>\n",
       "      <td>DUBSTEP</td>\n",
       "      <td>f256c6af-029f-43b5-97f0-79ed6d2afc96</td>\n",
       "      <td>ed07abk8</td>\n",
       "      <td>2021-01-03 12:46:40.097000+00:00</td>\n",
       "      <td>2021-01-03 12:37:41.401000+00:00</td>\n",
       "      <td>538.696</td>\n",
       "      <td>0.978370</td>\n",
       "      <td>2021-01-03</td>\n",
       "    </tr>\n",
       "    <tr>\n",
       "      <th>1</th>\n",
       "      <td>z553d</td>\n",
       "      <td>441.123734</td>\n",
       "      <td>ROCK</td>\n",
       "      <td>166148d1-ad74-421c-ab58-4d1059c3c694</td>\n",
       "      <td>ke53efc9</td>\n",
       "      <td>2021-02-02 21:40:24.993000+00:00</td>\n",
       "      <td>2021-02-02 21:33:57.804000+00:00</td>\n",
       "      <td>387.189</td>\n",
       "      <td>0.877733</td>\n",
       "      <td>2021-02-02</td>\n",
       "    </tr>\n",
       "    <tr>\n",
       "      <th>2</th>\n",
       "      <td>f2ab0</td>\n",
       "      <td>416.181447</td>\n",
       "      <td>POP</td>\n",
       "      <td>72bb2cf2-aadf-4710-a83f-eea105fcc65e</td>\n",
       "      <td>ka417cc5</td>\n",
       "      <td>2020-12-26 19:56:54.337000+00:00</td>\n",
       "      <td>2020-12-26 19:50:47.469000+00:00</td>\n",
       "      <td>366.868</td>\n",
       "      <td>0.881510</td>\n",
       "      <td>2020-12-26</td>\n",
       "    </tr>\n",
       "    <tr>\n",
       "      <th>3</th>\n",
       "      <td>1c9f4</td>\n",
       "      <td>395.104341</td>\n",
       "      <td>R&amp;B</td>\n",
       "      <td>7332a4ff-4c0c-40b9-bac6-730430b2d0d4</td>\n",
       "      <td>10dk9313</td>\n",
       "      <td>2021-01-22 03:41:08.922000+00:00</td>\n",
       "      <td>2021-01-22 03:34:37.926000+00:00</td>\n",
       "      <td>390.996</td>\n",
       "      <td>0.989602</td>\n",
       "      <td>2021-01-22</td>\n",
       "    </tr>\n",
       "    <tr>\n",
       "      <th>4</th>\n",
       "      <td>2b40a</td>\n",
       "      <td>786.919972</td>\n",
       "      <td>ELECTRONICS</td>\n",
       "      <td>9d40ee8c-6cb9-4b7d-9a0e-ceaf02cd8002</td>\n",
       "      <td>47e17k7a</td>\n",
       "      <td>2021-01-21 15:20:32.226000+00:00</td>\n",
       "      <td>2021-01-21 15:09:47.531000+00:00</td>\n",
       "      <td>644.695</td>\n",
       "      <td>0.819264</td>\n",
       "      <td>2021-01-21</td>\n",
       "    </tr>\n",
       "    <tr>\n",
       "      <th>...</th>\n",
       "      <td>...</td>\n",
       "      <td>...</td>\n",
       "      <td>...</td>\n",
       "      <td>...</td>\n",
       "      <td>...</td>\n",
       "      <td>...</td>\n",
       "      <td>...</td>\n",
       "      <td>...</td>\n",
       "      <td>...</td>\n",
       "      <td>...</td>\n",
       "    </tr>\n",
       "    <tr>\n",
       "      <th>842364</th>\n",
       "      <td>c6235</td>\n",
       "      <td>445.842668</td>\n",
       "      <td>POP</td>\n",
       "      <td>65db0eed-93a6-43eb-aca3-6d49f7d8484e</td>\n",
       "      <td>5ddf8aa0</td>\n",
       "      <td>2021-02-10 23:12:51.893000+00:00</td>\n",
       "      <td>2021-02-10 23:06:42.736000+00:00</td>\n",
       "      <td>369.157</td>\n",
       "      <td>0.827998</td>\n",
       "      <td>2021-02-10</td>\n",
       "    </tr>\n",
       "    <tr>\n",
       "      <th>842365</th>\n",
       "      <td>c715f</td>\n",
       "      <td>760.798642</td>\n",
       "      <td>ELECTRONICS</td>\n",
       "      <td>c15eba7a-dbde-4ea9-bc30-b734490f7ab4</td>\n",
       "      <td>fb8bab5a</td>\n",
       "      <td>2021-01-31 04:46:50.603000+00:00</td>\n",
       "      <td>2021-01-31 04:36:27.561000+00:00</td>\n",
       "      <td>623.042</td>\n",
       "      <td>0.818932</td>\n",
       "      <td>2021-01-31</td>\n",
       "    </tr>\n",
       "    <tr>\n",
       "      <th>842366</th>\n",
       "      <td>acf0f</td>\n",
       "      <td>427.210528</td>\n",
       "      <td>POP</td>\n",
       "      <td>751b46c5-4924-4b52-a77d-9da9e568ec89</td>\n",
       "      <td>a050bf41</td>\n",
       "      <td>2021-01-16 09:13:56.795000+00:00</td>\n",
       "      <td>2021-01-16 09:07:30.965000+00:00</td>\n",
       "      <td>385.830</td>\n",
       "      <td>0.903138</td>\n",
       "      <td>2021-01-16</td>\n",
       "    </tr>\n",
       "    <tr>\n",
       "      <th>842367</th>\n",
       "      <td>7c570</td>\n",
       "      <td>452.945564</td>\n",
       "      <td>VOCAL</td>\n",
       "      <td>bb71be9b-7c51-4e89-9608-c51381941d34</td>\n",
       "      <td>a95k3fa3</td>\n",
       "      <td>2021-02-28 06:18:13.383000+00:00</td>\n",
       "      <td>2021-02-28 06:17:14.588000+00:00</td>\n",
       "      <td>58.795</td>\n",
       "      <td>0.129806</td>\n",
       "      <td>2021-02-28</td>\n",
       "    </tr>\n",
       "    <tr>\n",
       "      <th>842368</th>\n",
       "      <td>a76cd</td>\n",
       "      <td>432.398848</td>\n",
       "      <td>DANCE</td>\n",
       "      <td>67b8fba4-8d54-4906-957a-e70f9ad3fced</td>\n",
       "      <td>1k1k1f80</td>\n",
       "      <td>2021-02-07 20:53:33.356000+00:00</td>\n",
       "      <td>2021-02-07 20:46:56.848000+00:00</td>\n",
       "      <td>396.508</td>\n",
       "      <td>0.916996</td>\n",
       "      <td>2021-02-07</td>\n",
       "    </tr>\n",
       "  </tbody>\n",
       "</table>\n",
       "<p>841938 rows × 10 columns</p>\n",
       "</div>"
      ],
      "text/plain": [
       "       play_id  song_duration   song_genre  \\\n",
       "0        4a4d0     550.605795      DUBSTEP   \n",
       "1        z553d     441.123734         ROCK   \n",
       "2        f2ab0     416.181447          POP   \n",
       "3        1c9f4     395.104341          R&B   \n",
       "4        2b40a     786.919972  ELECTRONICS   \n",
       "...        ...            ...          ...   \n",
       "842364   c6235     445.842668          POP   \n",
       "842365   c715f     760.798642  ELECTRONICS   \n",
       "842366   acf0f     427.210528          POP   \n",
       "842367   7c570     452.945564        VOCAL   \n",
       "842368   a76cd     432.398848        DANCE   \n",
       "\n",
       "                                     song_id   user_id  \\\n",
       "0       f256c6af-029f-43b5-97f0-79ed6d2afc96  ed07abk8   \n",
       "1       166148d1-ad74-421c-ab58-4d1059c3c694  ke53efc9   \n",
       "2       72bb2cf2-aadf-4710-a83f-eea105fcc65e  ka417cc5   \n",
       "3       7332a4ff-4c0c-40b9-bac6-730430b2d0d4  10dk9313   \n",
       "4       9d40ee8c-6cb9-4b7d-9a0e-ceaf02cd8002  47e17k7a   \n",
       "...                                      ...       ...   \n",
       "842364  65db0eed-93a6-43eb-aca3-6d49f7d8484e  5ddf8aa0   \n",
       "842365  c15eba7a-dbde-4ea9-bc30-b734490f7ab4  fb8bab5a   \n",
       "842366  751b46c5-4924-4b52-a77d-9da9e568ec89  a050bf41   \n",
       "842367  bb71be9b-7c51-4e89-9608-c51381941d34  a95k3fa3   \n",
       "842368  67b8fba4-8d54-4906-957a-e70f9ad3fced  1k1k1f80   \n",
       "\n",
       "                           utc_play_end                   utc_play_start  \\\n",
       "0      2021-01-03 12:46:40.097000+00:00 2021-01-03 12:37:41.401000+00:00   \n",
       "1      2021-02-02 21:40:24.993000+00:00 2021-02-02 21:33:57.804000+00:00   \n",
       "2      2020-12-26 19:56:54.337000+00:00 2020-12-26 19:50:47.469000+00:00   \n",
       "3      2021-01-22 03:41:08.922000+00:00 2021-01-22 03:34:37.926000+00:00   \n",
       "4      2021-01-21 15:20:32.226000+00:00 2021-01-21 15:09:47.531000+00:00   \n",
       "...                                 ...                              ...   \n",
       "842364 2021-02-10 23:12:51.893000+00:00 2021-02-10 23:06:42.736000+00:00   \n",
       "842365 2021-01-31 04:46:50.603000+00:00 2021-01-31 04:36:27.561000+00:00   \n",
       "842366 2021-01-16 09:13:56.795000+00:00 2021-01-16 09:07:30.965000+00:00   \n",
       "842367 2021-02-28 06:18:13.383000+00:00 2021-02-28 06:17:14.588000+00:00   \n",
       "842368 2021-02-07 20:53:33.356000+00:00 2021-02-07 20:46:56.848000+00:00   \n",
       "\n",
       "        play_duration  completion         day  \n",
       "0             538.696    0.978370  2021-01-03  \n",
       "1             387.189    0.877733  2021-02-02  \n",
       "2             366.868    0.881510  2020-12-26  \n",
       "3             390.996    0.989602  2021-01-22  \n",
       "4             644.695    0.819264  2021-01-21  \n",
       "...               ...         ...         ...  \n",
       "842364        369.157    0.827998  2021-02-10  \n",
       "842365        623.042    0.818932  2021-01-31  \n",
       "842366        385.830    0.903138  2021-01-16  \n",
       "842367         58.795    0.129806  2021-02-28  \n",
       "842368        396.508    0.916996  2021-02-07  \n",
       "\n",
       "[841938 rows x 10 columns]"
      ]
     },
     "execution_count": 20,
     "metadata": {},
     "output_type": "execute_result"
    }
   ],
   "source": [
    "df_new"
   ]
  },
  {
   "cell_type": "code",
   "execution_count": 21,
   "metadata": {},
   "outputs": [
    {
     "data": {
      "text/plain": [
       "user_id\n",
       "1a5b7d8a     5\n",
       "ba8k13d3     5\n",
       "a8b103ke     5\n",
       "df5999df     5\n",
       "4974aaka     7\n",
       "            ..\n",
       "eda3b5ab    39\n",
       "179513ff    39\n",
       "c8ca9850    39\n",
       "357303f4    40\n",
       "517k0k5k    40\n",
       "Name: day, Length: 1724, dtype: int64"
      ]
     },
     "execution_count": 21,
     "metadata": {},
     "output_type": "execute_result"
    }
   ],
   "source": [
    "# Find how many days each users listened to COUNTRY \n",
    "# Найдем количество дней для каждого пользователя, когда он слушал техно.\n",
    "df_new[df_new.song_genre == 'COUNTRY'].groupby('user_id').day.nunique().sort_values()"
   ]
  },
  {
   "cell_type": "code",
   "execution_count": 23,
   "metadata": {},
   "outputs": [
    {
     "data": {
      "image/png": "[encoded data removed]",
      "text/plain": [
       "<Figure size 432x288 with 1 Axes>"
      ]
     },
     "metadata": {
      "needs_background": "light"
     },
     "output_type": "display_data"
    }
   ],
   "source": [
    "# The majority of users use the service for more than 2 months. \n",
    "# Большинство пользователей провели на портале более двух месяцев\n",
    "df_new.groupby('user_id').day.nunique().hist(color = 'pink');\n",
    "plt.title('PERIOD OF USING THE SERVICE')\n",
    "plt.xlabel('DAYS');\n",
    "plt.ylabel('NUMBER OF USERS');\n",
    "# Almost all users spend enough for analysis time using the service.\n",
    "# Практически все пользователи имеют достаточный для анализа стаж пользования услугой"
   ]
  },
  {
   "cell_type": "code",
   "execution_count": 24,
   "metadata": {},
   "outputs": [],
   "source": [
    "users_list = [pd.DataFrame(df_new[df_new.song_genre == 'COUNTRY'].groupby('user_id').day.nunique()), \n",
    "            pd.DataFrame(df_new[df_new.song_genre == 'COUNTRY'].groupby(['user_id']).play_id.count()),\n",
    "            pd.DataFrame(df_new[(df_new.song_genre == 'COUNTRY') & (df_new.completion > 0.8)].groupby('user_id').play_id.count())]\n",
    "users = pd.concat(users_list, axis = 1)\n",
    "users.columns = ['days_COUNTRY', 'COUNTRY_total_songs', 'COUNTRY_completed']"
   ]
  },
  {
   "cell_type": "code",
   "execution_count": 25,
   "metadata": {},
   "outputs": [
    {
     "data": {
      "text/html": [
       "<div>\n",
       "<style scoped>\n",
       "    .dataframe tbody tr th:only-of-type {\n",
       "        vertical-align: middle;\n",
       "    }\n",
       "\n",
       "    .dataframe tbody tr th {\n",
       "        vertical-align: top;\n",
       "    }\n",
       "\n",
       "    .dataframe thead th {\n",
       "        text-align: right;\n",
       "    }\n",
       "</style>\n",
       "<table border=\"1\" class=\"dataframe\">\n",
       "  <thead>\n",
       "    <tr style=\"text-align: right;\">\n",
       "      <th></th>\n",
       "      <th>days_COUNTRY</th>\n",
       "      <th>COUNTRY_total_songs</th>\n",
       "      <th>COUNTRY_completed</th>\n",
       "    </tr>\n",
       "    <tr>\n",
       "      <th>user_id</th>\n",
       "      <th></th>\n",
       "      <th></th>\n",
       "      <th></th>\n",
       "    </tr>\n",
       "  </thead>\n",
       "  <tbody>\n",
       "    <tr>\n",
       "      <th>00001aa7</th>\n",
       "      <td>25</td>\n",
       "      <td>31</td>\n",
       "      <td>12</td>\n",
       "    </tr>\n",
       "    <tr>\n",
       "      <th>000b5fk1</th>\n",
       "      <td>30</td>\n",
       "      <td>52</td>\n",
       "      <td>21</td>\n",
       "    </tr>\n",
       "    <tr>\n",
       "      <th>00778ff1</th>\n",
       "      <td>21</td>\n",
       "      <td>26</td>\n",
       "      <td>13</td>\n",
       "    </tr>\n",
       "    <tr>\n",
       "      <th>007kfk8a</th>\n",
       "      <td>23</td>\n",
       "      <td>26</td>\n",
       "      <td>13</td>\n",
       "    </tr>\n",
       "    <tr>\n",
       "      <th>00c5e3fc</th>\n",
       "      <td>18</td>\n",
       "      <td>25</td>\n",
       "      <td>10</td>\n",
       "    </tr>\n",
       "    <tr>\n",
       "      <th>...</th>\n",
       "      <td>...</td>\n",
       "      <td>...</td>\n",
       "      <td>...</td>\n",
       "    </tr>\n",
       "    <tr>\n",
       "      <th>kk81aa11</th>\n",
       "      <td>21</td>\n",
       "      <td>32</td>\n",
       "      <td>7</td>\n",
       "    </tr>\n",
       "    <tr>\n",
       "      <th>kk8efd3e</th>\n",
       "      <td>28</td>\n",
       "      <td>43</td>\n",
       "      <td>14</td>\n",
       "    </tr>\n",
       "    <tr>\n",
       "      <th>kkbe7c5a</th>\n",
       "      <td>30</td>\n",
       "      <td>48</td>\n",
       "      <td>20</td>\n",
       "    </tr>\n",
       "    <tr>\n",
       "      <th>kkd18130</th>\n",
       "      <td>22</td>\n",
       "      <td>28</td>\n",
       "      <td>11</td>\n",
       "    </tr>\n",
       "    <tr>\n",
       "      <th>kke8cefd</th>\n",
       "      <td>25</td>\n",
       "      <td>33</td>\n",
       "      <td>14</td>\n",
       "    </tr>\n",
       "  </tbody>\n",
       "</table>\n",
       "<p>1724 rows × 3 columns</p>\n",
       "</div>"
      ],
      "text/plain": [
       "          days_COUNTRY  COUNTRY_total_songs  COUNTRY_completed\n",
       "user_id                                                       \n",
       "00001aa7            25                   31                 12\n",
       "000b5fk1            30                   52                 21\n",
       "00778ff1            21                   26                 13\n",
       "007kfk8a            23                   26                 13\n",
       "00c5e3fc            18                   25                 10\n",
       "...                ...                  ...                ...\n",
       "kk81aa11            21                   32                  7\n",
       "kk8efd3e            28                   43                 14\n",
       "kkbe7c5a            30                   48                 20\n",
       "kkd18130            22                   28                 11\n",
       "kke8cefd            25                   33                 14\n",
       "\n",
       "[1724 rows x 3 columns]"
      ]
     },
     "execution_count": 25,
     "metadata": {},
     "output_type": "execute_result"
    }
   ],
   "source": [
    "# Final dataset\n",
    "# Финальный датасет для работы\n",
    "users"
   ]
  },
  {
   "cell_type": "code",
   "execution_count": 26,
   "metadata": {},
   "outputs": [],
   "source": [
    "################################################################\n",
    "# CLUSTER ANALYSIS\n",
    "################################################################\n",
    "################################################################\n",
    "# Кластеризация\n",
    "################################################################"
   ]
  },
  {
   "cell_type": "code",
   "execution_count": 26,
   "metadata": {},
   "outputs": [
    {
     "data": {
      "image/png": "[encoded data removed]",
      "text/plain": [
       "<Figure size 432x288 with 1 Axes>"
      ]
     },
     "metadata": {
      "needs_background": "light"
     },
     "output_type": "display_data"
    }
   ],
   "source": [
    "# There are no categorical variables in the final dataset, so we are going to use kmeans algorithm.\n",
    "# Let's normalise data\n",
    "# В финальном датасете нет категориальных данных, поэтому будем использовать kmeans алгоритм\n",
    "# Нормализуем данные\n",
    "sc = StandardScaler()\n",
    "users_cl = sc.fit_transform(users)\n",
    "# Find the number of clusters using The Elbow method\n",
    "# Найдем число кластеров, используя The Elbow метод\n",
    "inertias = []\n",
    "inertias = []\n",
    "for n in range(2,11):\n",
    "    model = KMeans(n_clusters=n, init=\"k-means++\", random_state=42)\n",
    "    model.fit(users_cl)\n",
    "    inertias.append(model.inertia_)  \n",
    "plt.figure(figsize=(6,4))    \n",
    "plt.grid()\n",
    "plt.plot(range(2,11), inertias, linewidth=2, color=\"magenta\", marker =\"8\")\n",
    "plt.xlabel('NUMBER OF CLUSTERS')\n",
    "plt.xticks(np.arange(1,11,1))\n",
    "plt.ylabel('INERTIA')\n",
    "plt.title('THE ELBOW METHOD')\n",
    "plt.show()"
   ]
  },
  {
   "cell_type": "code",
   "execution_count": 27,
   "metadata": {},
   "outputs": [
    {
     "name": "stdout",
     "output_type": "stream",
     "text": [
      "\u001b[1mNumber of clusters:\u001b[0m 4\n"
     ]
    }
   ],
   "source": [
    "kl = KneeLocator(range(2, 11), inertias, curve=\"convex\", direction=\"decreasing\")\n",
    "print('\\033[1m{:1s}\\033[0m'.format('Number of clusters:'), kl.elbow)"
   ]
  },
  {
   "cell_type": "code",
   "execution_count": 28,
   "metadata": {},
   "outputs": [],
   "source": [
    "clusters_numb = kl.elbow\n",
    "model = KMeans(init = 'k-means++', \n",
    "               n_clusters = clusters_numb, \n",
    "               random_state=42)\n",
    "model.fit(users_cl)\n",
    "\n",
    "labels = model.labels_"
   ]
  },
  {
   "cell_type": "code",
   "execution_count": 29,
   "metadata": {},
   "outputs": [
    {
     "data": {
      "text/html": [
       "<div>\n",
       "<style scoped>\n",
       "    .dataframe tbody tr th:only-of-type {\n",
       "        vertical-align: middle;\n",
       "    }\n",
       "\n",
       "    .dataframe tbody tr th {\n",
       "        vertical-align: top;\n",
       "    }\n",
       "\n",
       "    .dataframe thead th {\n",
       "        text-align: right;\n",
       "    }\n",
       "</style>\n",
       "<table border=\"1\" class=\"dataframe\">\n",
       "  <thead>\n",
       "    <tr style=\"text-align: right;\">\n",
       "      <th></th>\n",
       "      <th>days_COUNTRY</th>\n",
       "      <th>COUNTRY_total_songs</th>\n",
       "      <th>COUNTRY_completed</th>\n",
       "      <th>cluster</th>\n",
       "    </tr>\n",
       "    <tr>\n",
       "      <th>user_id</th>\n",
       "      <th></th>\n",
       "      <th></th>\n",
       "      <th></th>\n",
       "      <th></th>\n",
       "    </tr>\n",
       "  </thead>\n",
       "  <tbody>\n",
       "    <tr>\n",
       "      <th>00001aa7</th>\n",
       "      <td>25</td>\n",
       "      <td>31</td>\n",
       "      <td>12</td>\n",
       "      <td>2</td>\n",
       "    </tr>\n",
       "    <tr>\n",
       "      <th>000b5fk1</th>\n",
       "      <td>30</td>\n",
       "      <td>52</td>\n",
       "      <td>21</td>\n",
       "      <td>1</td>\n",
       "    </tr>\n",
       "    <tr>\n",
       "      <th>00778ff1</th>\n",
       "      <td>21</td>\n",
       "      <td>26</td>\n",
       "      <td>13</td>\n",
       "      <td>2</td>\n",
       "    </tr>\n",
       "    <tr>\n",
       "      <th>007kfk8a</th>\n",
       "      <td>23</td>\n",
       "      <td>26</td>\n",
       "      <td>13</td>\n",
       "      <td>2</td>\n",
       "    </tr>\n",
       "    <tr>\n",
       "      <th>00c5e3fc</th>\n",
       "      <td>18</td>\n",
       "      <td>25</td>\n",
       "      <td>10</td>\n",
       "      <td>2</td>\n",
       "    </tr>\n",
       "  </tbody>\n",
       "</table>\n",
       "</div>"
      ],
      "text/plain": [
       "          days_COUNTRY  COUNTRY_total_songs  COUNTRY_completed  cluster\n",
       "user_id                                                                \n",
       "00001aa7            25                   31                 12        2\n",
       "000b5fk1            30                   52                 21        1\n",
       "00778ff1            21                   26                 13        2\n",
       "007kfk8a            23                   26                 13        2\n",
       "00c5e3fc            18                   25                 10        2"
      ]
     },
     "execution_count": 29,
     "metadata": {},
     "output_type": "execute_result"
    }
   ],
   "source": [
    "users['cluster'] = labels\n",
    "users.head()"
   ]
  },
  {
   "cell_type": "code",
   "execution_count": 30,
   "metadata": {},
   "outputs": [
    {
     "data": {
      "text/html": [
       "<div>\n",
       "<style scoped>\n",
       "    .dataframe tbody tr th:only-of-type {\n",
       "        vertical-align: middle;\n",
       "    }\n",
       "\n",
       "    .dataframe tbody tr th {\n",
       "        vertical-align: top;\n",
       "    }\n",
       "\n",
       "    .dataframe thead th {\n",
       "        text-align: right;\n",
       "    }\n",
       "</style>\n",
       "<table border=\"1\" class=\"dataframe\">\n",
       "  <thead>\n",
       "    <tr style=\"text-align: right;\">\n",
       "      <th></th>\n",
       "      <th>days_COUNTRY</th>\n",
       "      <th>COUNTRY_total_songs</th>\n",
       "      <th>COUNTRY_completed</th>\n",
       "    </tr>\n",
       "    <tr>\n",
       "      <th>cluster</th>\n",
       "      <th></th>\n",
       "      <th></th>\n",
       "      <th></th>\n",
       "    </tr>\n",
       "  </thead>\n",
       "  <tbody>\n",
       "    <tr>\n",
       "      <th>0</th>\n",
       "      <td>26.788136</td>\n",
       "      <td>40.205085</td>\n",
       "      <td>14.900000</td>\n",
       "    </tr>\n",
       "    <tr>\n",
       "      <th>1</th>\n",
       "      <td>32.057851</td>\n",
       "      <td>52.884298</td>\n",
       "      <td>20.772727</td>\n",
       "    </tr>\n",
       "    <tr>\n",
       "      <th>2</th>\n",
       "      <td>21.418440</td>\n",
       "      <td>29.539007</td>\n",
       "      <td>10.670213</td>\n",
       "    </tr>\n",
       "    <tr>\n",
       "      <th>3</th>\n",
       "      <td>15.262195</td>\n",
       "      <td>19.155488</td>\n",
       "      <td>6.338415</td>\n",
       "    </tr>\n",
       "  </tbody>\n",
       "</table>\n",
       "</div>"
      ],
      "text/plain": [
       "         days_COUNTRY  COUNTRY_total_songs  COUNTRY_completed\n",
       "cluster                                                      \n",
       "0           26.788136            40.205085          14.900000\n",
       "1           32.057851            52.884298          20.772727\n",
       "2           21.418440            29.539007          10.670213\n",
       "3           15.262195            19.155488           6.338415"
      ]
     },
     "execution_count": 30,
     "metadata": {},
     "output_type": "execute_result"
    }
   ],
   "source": [
    "users.groupby('cluster').mean()"
   ]
  },
  {
   "cell_type": "code",
   "execution_count": 31,
   "metadata": {},
   "outputs": [
    {
     "name": "stdout",
     "output_type": "stream",
     "text": [
      "\u001b[1mКластер 0:\u001b[0m\n",
      "       days_COUNTRY  COUNTRY_total_songs  COUNTRY_completed\n",
      "count    590.000000           590.000000         590.000000\n",
      "mean      26.788136            40.205085          14.900000\n",
      "std        2.475180             4.239475           2.478807\n",
      "min       20.000000            29.000000           9.000000\n",
      "25%       25.000000            37.000000          13.000000\n",
      "50%       27.000000            40.000000          15.000000\n",
      "75%       29.000000            43.000000          17.000000\n",
      "max       34.000000            56.000000          22.000000\n",
      "\u001b[1mКластер 1:\u001b[0m\n",
      "       days_COUNTRY  COUNTRY_total_songs  COUNTRY_completed\n",
      "count    242.000000           242.000000         242.000000\n",
      "mean      32.057851            52.884298          20.772727\n",
      "std        2.878732             5.962107           3.579854\n",
      "min       25.000000            41.000000          11.000000\n",
      "25%       30.000000            48.000000          18.000000\n",
      "50%       32.000000            52.000000          21.000000\n",
      "75%       34.000000            56.000000          23.000000\n",
      "max       40.000000            77.000000          31.000000\n",
      "\u001b[1mКластер 2:\u001b[0m\n",
      "       days_COUNTRY  COUNTRY_total_songs  COUNTRY_completed\n",
      "count    564.000000           564.000000         564.000000\n",
      "mean      21.418440            29.539007          10.670213\n",
      "std        2.206582             3.660102           2.331596\n",
      "min       15.000000            22.000000           4.000000\n",
      "25%       20.000000            27.000000           9.000000\n",
      "50%       21.000000            29.000000          11.000000\n",
      "75%       23.000000            32.000000          12.000000\n",
      "max       27.000000            40.000000          17.000000\n",
      "\u001b[1mКластер 3:\u001b[0m\n",
      "       days_COUNTRY  COUNTRY_total_songs  COUNTRY_completed\n",
      "count    328.000000           328.000000         328.000000\n",
      "mean      15.262195            19.155488           6.338415\n",
      "std        3.154266             4.474553           2.306377\n",
      "min        5.000000             5.000000           1.000000\n",
      "25%       14.000000            17.000000           5.000000\n",
      "50%       16.000000            20.000000           6.000000\n",
      "75%       18.000000            22.000000           8.000000\n",
      "max       21.000000            29.000000          13.000000\n"
     ]
    }
   ],
   "source": [
    "# Look at the clusters we got\n",
    "# Рассмотрим получившиеся кластеры\n",
    "for i in range(len(set(labels))):\n",
    "    print('\\033[1m{:1s}\\033[0m'.format('Кластер ' + str(i) + ':'), users[users.cluster == i].iloc[:,0:-1].describe(), sep = '\\n')"
   ]
  },
  {
   "cell_type": "code",
   "execution_count": 33,
   "metadata": {},
   "outputs": [
    {
     "data": {
      "image/png": "[encoded data removed]",
      "text/plain": [
       "<Figure size 1440x360 with 3 Axes>"
      ]
     },
     "metadata": {
      "needs_background": "light"
     },
     "output_type": "display_data"
    },
    {
     "data": {
      "image/png": "[encoded data removed]",
      "text/plain": [
       "<Figure size 1440x360 with 3 Axes>"
      ]
     },
     "metadata": {
      "needs_background": "light"
     },
     "output_type": "display_data"
    },
    {
     "data": {
      "image/png": "[encoded data removed]",
      "text/plain": [
       "<Figure size 1440x360 with 3 Axes>"
      ]
     },
     "metadata": {
      "needs_background": "light"
     },
     "output_type": "display_data"
    },
    {
     "data": {
      "image/png": "[encoded data removed]",
      "text/plain": [
       "<Figure size 1440x360 with 3 Axes>"
      ]
     },
     "metadata": {
      "needs_background": "light"
     },
     "output_type": "display_data"
    }
   ],
   "source": [
    "# Build histigram for each cluster:\n",
    "# Построим гистограммы для каждого кластера:\n",
    "for i in range(len(set(labels))):\n",
    "    fig, ax = plt.subplots(ncols=len(users.columns[0:-1]), sharey=True, figsize=(20,5))\n",
    "    fig.text(0.07, 0.5, 'NUMBER OF USERS', va='center', rotation='vertical')\n",
    "    fig.text(0.45, 1, 'CLUSTER ' + str(i), va='center')\n",
    "    colors = 'skyblue', 'lightgreen', 'thistle', 'lightpink'\n",
    "    ax[0].set(xlabel='NUMBER OF DAYS')\n",
    "    ax[1].set(xlabel='NUMBER OF SONGS')\n",
    "    ax[2].set(xlabel='UMBER OF SONGS')\n",
    "    for j, a, color in zip(users.columns[0:-1], ax, colors):\n",
    "        users[users.cluster == i].iloc[:,:-1].hist(column =j,ax=a, color = color)\n",
    "    ax[0].set_title('DAYS WHEN COUNTRY WAS LISTENING TO AT LEAST ONE TIME');\n",
    "    ax[1].set_title('TOTAL AMOUNT OF PLAYED COUNTRY PLAYED SONGS');\n",
    "    ax[2].set_title('AMOUNT OF COMPLETED COUNTRY SONGS');"
   ]
  },
  {
   "cell_type": "code",
   "execution_count": 35,
   "metadata": {},
   "outputs": [
    {
     "data": {
      "text/html": [
       "<div>\n",
       "<style scoped>\n",
       "    .dataframe tbody tr th:only-of-type {\n",
       "        vertical-align: middle;\n",
       "    }\n",
       "\n",
       "    .dataframe tbody tr th {\n",
       "        vertical-align: top;\n",
       "    }\n",
       "\n",
       "    .dataframe thead th {\n",
       "        text-align: right;\n",
       "    }\n",
       "</style>\n",
       "<table border=\"1\" class=\"dataframe\">\n",
       "  <thead>\n",
       "    <tr style=\"text-align: right;\">\n",
       "      <th></th>\n",
       "      <th>Interest in COUNTRY music</th>\n",
       "    </tr>\n",
       "    <tr>\n",
       "      <th>cluster</th>\n",
       "      <th></th>\n",
       "    </tr>\n",
       "  </thead>\n",
       "  <tbody>\n",
       "    <tr>\n",
       "      <th>0</th>\n",
       "      <td>3.0</td>\n",
       "    </tr>\n",
       "    <tr>\n",
       "      <th>1</th>\n",
       "      <td>4.0</td>\n",
       "    </tr>\n",
       "    <tr>\n",
       "      <th>2</th>\n",
       "      <td>2.0</td>\n",
       "    </tr>\n",
       "    <tr>\n",
       "      <th>3</th>\n",
       "      <td>1.0</td>\n",
       "    </tr>\n",
       "  </tbody>\n",
       "</table>\n",
       "</div>"
      ],
      "text/plain": [
       "         Interest in COUNTRY music\n",
       "cluster                           \n",
       "0                              3.0\n",
       "1                              4.0\n",
       "2                              2.0\n",
       "3                              1.0"
      ]
     },
     "execution_count": 35,
     "metadata": {},
     "output_type": "execute_result"
    }
   ],
   "source": [
    "# Rank the cluster using criterion 'Interest in COUNTRY music'\n",
    "#Проранжируем кластеры по критерию 'Увлечение COUNTRY'\n",
    "users_groups = pd.DataFrame(users.groupby('cluster').mean().rank().sum(axis =1).rank())\n",
    "users_groups.columns = ['Interest in COUNTRY music']\n",
    "users_groups"
   ]
  },
  {
   "cell_type": "code",
   "execution_count": 36,
   "metadata": {},
   "outputs": [
    {
     "data": {
      "text/plain": [
       "Index(['00001aa7', '000b5fk1', '00778ff1', '007kfk8a', '00c5e3fc', '00efd78b',\n",
       "       '00fe8bba', '0137e0aa', '0145f791', '015f30d3',\n",
       "       ...\n",
       "       'kfee3431', 'kfffd39a', 'kfk77aka', 'kk08aeka', 'kk4de8k3', 'kk81aa11',\n",
       "       'kk8efd3e', 'kkbe7c5a', 'kkd18130', 'kke8cefd'],\n",
       "      dtype='object', name='user_id', length=1724)"
      ]
     },
     "execution_count": 36,
     "metadata": {},
     "output_type": "execute_result"
    }
   ],
   "source": [
    "users.cluster.isin(users_groups['Interest in COUNTRY music'].nlargest(0 + 1).index).index"
   ]
  },
  {
   "cell_type": "code",
   "execution_count": 37,
   "metadata": {},
   "outputs": [
    {
     "data": {
      "text/plain": [
       "Int64Index([1], dtype='int64', name='cluster')"
      ]
     },
     "execution_count": 37,
     "metadata": {},
     "output_type": "execute_result"
    }
   ],
   "source": [
    "users_groups['Interest in COUNTRY music'].nlargest(0 + 1).index"
   ]
  },
  {
   "cell_type": "code",
   "execution_count": 38,
   "metadata": {},
   "outputs": [
    {
     "data": {
      "text/plain": [
       "Index(['000b5fk1', '03957fe7', '03fba4af', '07000cac', '0871b799', '08fke0a1',\n",
       "       '0a0b1ada', '0a414d15', '0a4abf1f', '0ake73f7',\n",
       "       ...\n",
       "       'k7ab0a75', 'k8acaac0', 'k8ckb7be', 'kakf3k7b', 'kd3efab7', 'kd70c0ea',\n",
       "       'ke53efc9', 'ke810d3f', 'kk4de8k3', 'kkbe7c5a'],\n",
       "      dtype='object', name='user_id', length=242)"
      ]
     },
     "execution_count": 38,
     "metadata": {},
     "output_type": "execute_result"
    }
   ],
   "source": [
    "users[users.cluster.isin(users_groups['Interest in COUNTRY music'].nlargest(0 + 1).index)].index"
   ]
  },
  {
   "cell_type": "code",
   "execution_count": 39,
   "metadata": {},
   "outputs": [],
   "source": [
    "# Create a possible mailing lists.\n",
    "# Сформируем возможные списки рассылки\n",
    "# We are not going to take into account cluster with the lower rank as users into that clusters are not \n",
    "#interested in COUNTRY music at all\n",
    "# Ни в один вариант не будем включать кластер с наименьшим рангом, так как пользователи, принадлежащие к данной группе, \n",
    "# наименее всех заинтересованы в COUNTRY.\n",
    "# Fot the most targeting newslettes, it's reasonable to take into account cluster with the highest rank\n",
    "# Если мы хотим сделать максимально таргетированную рассылку, стоит использовать кластер с максимальным рангом: \n",
    "mail_list = {'list%s' % i: [users[users.cluster.isin(users_groups['Interest in COUNTRY music'].nlargest(i + 1).index)].index] for i in range(len(users_groups) - 1)}"
   ]
  },
  {
   "cell_type": "code",
   "execution_count": 40,
   "metadata": {},
   "outputs": [],
   "source": [
    "mail_list = [users[users.cluster.isin(users_groups['Interest in COUNTRY music'].nlargest(i + 1).index)].index for i in range(len(users_groups) - 1)]"
   ]
  },
  {
   "cell_type": "code",
   "execution_count": 41,
   "metadata": {},
   "outputs": [
    {
     "data": {
      "text/plain": [
       "Index(['000b5fk1', '03957fe7', '03fba4af', '07000cac', '0871b799', '08fke0a1',\n",
       "       '0a0b1ada', '0a414d15', '0a4abf1f', '0ake73f7',\n",
       "       ...\n",
       "       'k7ab0a75', 'k8acaac0', 'k8ckb7be', 'kakf3k7b', 'kd3efab7', 'kd70c0ea',\n",
       "       'ke53efc9', 'ke810d3f', 'kk4de8k3', 'kkbe7c5a'],\n",
       "      dtype='object', name='user_id', length=242)"
      ]
     },
     "execution_count": 41,
     "metadata": {},
     "output_type": "execute_result"
    }
   ],
   "source": [
    "mail_list[0]"
   ]
  },
  {
   "cell_type": "code",
   "execution_count": 43,
   "metadata": {},
   "outputs": [],
   "source": [
    "def ask_user():\n",
    "    print('Available number of clusters:')\n",
    "    for i in range(1, len(mail_list) + 1):\n",
    "        print(u'\\u2713', '\\033[1m{:1s}\\033[0m'.format(str(i)), '-', len(mail_list[i-1]), 'users')\n",
    "    print('* The fewer clusters, the more the mailing list meets the criterion \"User interest in COUNTRY music\"')\n",
    "    response = input()\n",
    "    while (int(response) not in range(1, len(mail_list) + 1)):\n",
    "        print('Please, choose the available number of clusters')\n",
    "        response = input()\n",
    "    print('Mailing list: ')\n",
    "    for i in  range(1, len(mail_list) + 1):\n",
    "        if (int(response) == range(1, len(mail_list) + 1)[i-1]):\n",
    "            users_for_email = mail_list[i-1]\n",
    "    return users_for_email\n",
    "        \n",
    "    "
   ]
  },
  {
   "cell_type": "code",
   "execution_count": 44,
   "metadata": {},
   "outputs": [
    {
     "name": "stdout",
     "output_type": "stream",
     "text": [
      "Available number of clusters:\n",
      "✓ \u001b[1m1\u001b[0m - 242 users\n",
      "✓ \u001b[1m2\u001b[0m - 832 users\n",
      "✓ \u001b[1m3\u001b[0m - 1396 users\n",
      "* The fewer clusters, the more the mailing list meets the criterion \"User interest in COUNTRY music\"\n",
      "1\n",
      "Mailing list: \n"
     ]
    },
    {
     "data": {
      "text/plain": [
       "Index(['000b5fk1', '03957fe7', '03fba4af', '07000cac', '0871b799', '08fke0a1',\n",
       "       '0a0b1ada', '0a414d15', '0a4abf1f', '0ake73f7',\n",
       "       ...\n",
       "       'k7ab0a75', 'k8acaac0', 'k8ckb7be', 'kakf3k7b', 'kd3efab7', 'kd70c0ea',\n",
       "       'ke53efc9', 'ke810d3f', 'kk4de8k3', 'kkbe7c5a'],\n",
       "      dtype='object', name='user_id', length=242)"
      ]
     },
     "execution_count": 44,
     "metadata": {},
     "output_type": "execute_result"
    }
   ],
   "source": [
    "users_for_email = ask_user()\n",
    "users_for_email"
   ]
  }
 ],
 "metadata": {
  "kernelspec": {
   "display_name": "Python 3",
   "language": "python",
   "name": "python3"
  },
  "language_info": {
   "codemirror_mode": {
    "name": "ipython",
    "version": 3
   },
   "file_extension": ".py",
   "mimetype": "text/x-python",
   "name": "python",
   "nbconvert_exporter": "python",
   "pygments_lexer": "ipython3",
   "version": "3.7.8"
  }
 },
 "nbformat": 4,
 "nbformat_minor": 4
}
